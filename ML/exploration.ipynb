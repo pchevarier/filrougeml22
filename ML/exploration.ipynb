{
 "cells": [
  {
   "cell_type": "markdown",
   "metadata": {},
   "source": [
    "# import install"
   ]
  },
  {
   "cell_type": "markdown",
   "metadata": {},
   "source": [
    "A Fast, Extensible Progress Bar for Python\n",
    "https://github.com/tqdm/tqdm"
   ]
  },
  {
   "cell_type": "code",
   "execution_count": 104,
   "metadata": {},
   "outputs": [],
   "source": [
    "# !pip install tqdm"
   ]
  },
  {
   "cell_type": "markdown",
   "metadata": {},
   "source": [
    "Industrial-Strength Natural Language Processing (NLP)\n",
    "https://spacy.io/"
   ]
  },
  {
   "cell_type": "code",
   "execution_count": 105,
   "metadata": {},
   "outputs": [],
   "source": [
    "# !pip install spacy==2.3.7"
   ]
  },
  {
   "cell_type": "code",
   "execution_count": 106,
   "metadata": {},
   "outputs": [],
   "source": [
    "# !pip install https://s3-us-west-2.amazonaws.com/ai2-s2-scispacy/releases/v0.2.4/en_core_sci_lg-0.2.4.tar.gz "
   ]
  },
  {
   "cell_type": "markdown",
   "metadata": {},
   "source": [
    "Language detection library\n",
    "ported from Google's language-detection.\n",
    "https://pypi.org/project/langdetect/"
   ]
  },
  {
   "cell_type": "code",
   "execution_count": 107,
   "metadata": {},
   "outputs": [],
   "source": [
    "# !pip install langdetect"
   ]
  },
  {
   "cell_type": "markdown",
   "metadata": {},
   "source": [
    "# Exploration"
   ]
  },
  {
   "cell_type": "code",
   "execution_count": 108,
   "metadata": {},
   "outputs": [],
   "source": [
    "import sys\n",
    "sys.path.append('../library/')\n",
    "# Own library\n",
    "import FilrougeMLIOLibrary as MLOI\n",
    "\n",
    "from matplotlib import pyplot as plt"
   ]
  },
  {
   "cell_type": "markdown",
   "metadata": {},
   "source": [
    "# data loading"
   ]
  },
  {
   "cell_type": "code",
   "execution_count": 109,
   "metadata": {},
   "outputs": [],
   "source": [
    "df = MLOI.LoadArticles('','art.json')"
   ]
  },
  {
   "cell_type": "code",
   "execution_count": 110,
   "metadata": {},
   "outputs": [],
   "source": [
    "df = df.T"
   ]
  },
  {
   "cell_type": "code",
   "execution_count": 111,
   "metadata": {},
   "outputs": [],
   "source": [
    "df.reset_index(inplace=True)"
   ]
  },
  {
   "cell_type": "code",
   "execution_count": 112,
   "metadata": {},
   "outputs": [
    {
     "data": {
      "text/html": [
       "<div>\n",
       "<style scoped>\n",
       "    .dataframe tbody tr th:only-of-type {\n",
       "        vertical-align: middle;\n",
       "    }\n",
       "\n",
       "    .dataframe tbody tr th {\n",
       "        vertical-align: top;\n",
       "    }\n",
       "\n",
       "    .dataframe thead th {\n",
       "        text-align: right;\n",
       "    }\n",
       "</style>\n",
       "<table border=\"1\" class=\"dataframe\">\n",
       "  <thead>\n",
       "    <tr style=\"text-align: right;\">\n",
       "      <th></th>\n",
       "      <th>index</th>\n",
       "      <th>Title</th>\n",
       "      <th>Abstract</th>\n",
       "      <th>Body</th>\n",
       "      <th>RefTo</th>\n",
       "      <th>Authors</th>\n",
       "      <th>RefBy</th>\n",
       "      <th>DatePub</th>\n",
       "      <th>url</th>\n",
       "      <th>LibName</th>\n",
       "      <th>Similar</th>\n",
       "    </tr>\n",
       "  </thead>\n",
       "  <tbody>\n",
       "    <tr>\n",
       "      <th>0</th>\n",
       "      <td>doi:10.1016/j.jhep.2020.01.028.</td>\n",
       "      <td>[Full-length 5'RACE identifies all major HBV t...</td>\n",
       "      <td>[Background &amp; aims:                    Covalen...</td>\n",
       "      <td></td>\n",
       "      <td></td>\n",
       "      <td>{'Name': ['Bernd Stadelmayer', 'Audrey Diederi...</td>\n",
       "      <td></td>\n",
       "      <td>2020 Feb 20</td>\n",
       "      <td>/32087349/</td>\n",
       "      <td>PubMed</td>\n",
       "      <td></td>\n",
       "    </tr>\n",
       "    <tr>\n",
       "      <th>1</th>\n",
       "      <td>doi:10.3390/biom11121822.</td>\n",
       "      <td>[RNR-R2 Upregulation by a Short Non-Coding Vir...</td>\n",
       "      <td>[DNA viruses require dNTPs for replication and...</td>\n",
       "      <td></td>\n",
       "      <td></td>\n",
       "      <td>{'Name': ['Karin Broennimann', 'Inna Ricardo-L...</td>\n",
       "      <td></td>\n",
       "      <td></td>\n",
       "      <td>/34944466/</td>\n",
       "      <td>PubMed</td>\n",
       "      <td></td>\n",
       "    </tr>\n",
       "    <tr>\n",
       "      <th>2</th>\n",
       "      <td>doi:10.1016/j.jhep.2015.05.017.</td>\n",
       "      <td>[Hepatitis B virus induces RNR-R2 expression v...</td>\n",
       "      <td>[Background &amp; aims:                    Hepatit...</td>\n",
       "      <td></td>\n",
       "      <td></td>\n",
       "      <td>{'Name': ['Inna Ricardo-Lax', 'Vyas Ramanan', ...</td>\n",
       "      <td></td>\n",
       "      <td>2015 May 27</td>\n",
       "      <td>/26026873/</td>\n",
       "      <td>PubMed</td>\n",
       "      <td></td>\n",
       "    </tr>\n",
       "    <tr>\n",
       "      <th>3</th>\n",
       "      <td>doi:10.3390/v13081463.</td>\n",
       "      <td>[Mechanism of Hepatitis B Virus cccDNA Formation]</td>\n",
       "      <td>[Hepatitis B virus (HBV) remains a major medic...</td>\n",
       "      <td></td>\n",
       "      <td></td>\n",
       "      <td>{'Name': ['Lei Wei', 'Alexander Ploss', 'Lei W...</td>\n",
       "      <td></td>\n",
       "      <td></td>\n",
       "      <td>/34452329/</td>\n",
       "      <td>PubMed</td>\n",
       "      <td></td>\n",
       "    </tr>\n",
       "    <tr>\n",
       "      <th>4</th>\n",
       "      <td>doi:10.3390/vaccines9111333.</td>\n",
       "      <td>[Improving Therapeutic Vaccination against Hep...</td>\n",
       "      <td>[Chronic hepatitis B affects more than 250 mil...</td>\n",
       "      <td></td>\n",
       "      <td></td>\n",
       "      <td>{'Name': ['Percy A Knolle', 'Li-Rung Huang', '...</td>\n",
       "      <td></td>\n",
       "      <td></td>\n",
       "      <td>/34835264/</td>\n",
       "      <td>PubMed</td>\n",
       "      <td></td>\n",
       "    </tr>\n",
       "    <tr>\n",
       "      <th>...</th>\n",
       "      <td>...</td>\n",
       "      <td>...</td>\n",
       "      <td>...</td>\n",
       "      <td>...</td>\n",
       "      <td>...</td>\n",
       "      <td>...</td>\n",
       "      <td>...</td>\n",
       "      <td>...</td>\n",
       "      <td>...</td>\n",
       "      <td>...</td>\n",
       "      <td>...</td>\n",
       "    </tr>\n",
       "    <tr>\n",
       "      <th>10074</th>\n",
       "      <td>PMIDPMID:      4351110</td>\n",
       "      <td>[[Seasonal rhythms in the functioning of the e...</td>\n",
       "      <td>[]</td>\n",
       "      <td></td>\n",
       "      <td></td>\n",
       "      <td>{'Name': ['M G Kolpakov', 'S G Kolaeva', 'G S ...</td>\n",
       "      <td></td>\n",
       "      <td></td>\n",
       "      <td>/4351110/</td>\n",
       "      <td>PubMed</td>\n",
       "      <td></td>\n",
       "    </tr>\n",
       "    <tr>\n",
       "      <th>10075</th>\n",
       "      <td>doi:10.1152/ajplegacy.1956.186.3.414.</td>\n",
       "      <td>[Physiologic 24-hour periodicity and hepatic p...</td>\n",
       "      <td>[]</td>\n",
       "      <td></td>\n",
       "      <td></td>\n",
       "      <td>{'Name': ['C P BARNUM', 'J J BITTNER', 'F HALB...</td>\n",
       "      <td></td>\n",
       "      <td></td>\n",
       "      <td>/13362550/</td>\n",
       "      <td>PubMed</td>\n",
       "      <td></td>\n",
       "    </tr>\n",
       "    <tr>\n",
       "      <th>10076</th>\n",
       "      <td>doi:10.1210/endo-59-3-364.</td>\n",
       "      <td>[Adrenal hormones and phospholipid metabolism ...</td>\n",
       "      <td>[]</td>\n",
       "      <td></td>\n",
       "      <td></td>\n",
       "      <td>{'Name': ['C P BARNUM', 'E HALBERG', 'F HALBER...</td>\n",
       "      <td></td>\n",
       "      <td></td>\n",
       "      <td>/13375552/</td>\n",
       "      <td>PubMed</td>\n",
       "      <td></td>\n",
       "    </tr>\n",
       "    <tr>\n",
       "      <th>10077</th>\n",
       "      <td>PMIDPMID:      13090978</td>\n",
       "      <td>[[Studies on the effects of nitrogen mustard a...</td>\n",
       "      <td>[]</td>\n",
       "      <td></td>\n",
       "      <td></td>\n",
       "      <td>{'Name': ['R FRANKE', 'F H THIELE', 'N KELLER'...</td>\n",
       "      <td></td>\n",
       "      <td></td>\n",
       "      <td>/13090978/</td>\n",
       "      <td>PubMed</td>\n",
       "      <td></td>\n",
       "    </tr>\n",
       "    <tr>\n",
       "      <th>10078</th>\n",
       "      <td>PMIDPMID:      13404530</td>\n",
       "      <td>[Phospholipid metabolism in rat liver slices; ...</td>\n",
       "      <td>[]</td>\n",
       "      <td></td>\n",
       "      <td></td>\n",
       "      <td>{'Name': ['D KLINE', 'R J ROSSITER', 'D KLINE'...</td>\n",
       "      <td></td>\n",
       "      <td></td>\n",
       "      <td>/13404530/</td>\n",
       "      <td>PubMed</td>\n",
       "      <td></td>\n",
       "    </tr>\n",
       "  </tbody>\n",
       "</table>\n",
       "<p>10079 rows × 11 columns</p>\n",
       "</div>"
      ],
      "text/plain": [
       "                                       index  \\\n",
       "0            doi:10.1016/j.jhep.2020.01.028.   \n",
       "1                  doi:10.3390/biom11121822.   \n",
       "2            doi:10.1016/j.jhep.2015.05.017.   \n",
       "3                     doi:10.3390/v13081463.   \n",
       "4               doi:10.3390/vaccines9111333.   \n",
       "...                                      ...   \n",
       "10074                 PMIDPMID:      4351110   \n",
       "10075  doi:10.1152/ajplegacy.1956.186.3.414.   \n",
       "10076             doi:10.1210/endo-59-3-364.   \n",
       "10077                PMIDPMID:      13090978   \n",
       "10078                PMIDPMID:      13404530   \n",
       "\n",
       "                                                   Title  \\\n",
       "0      [Full-length 5'RACE identifies all major HBV t...   \n",
       "1      [RNR-R2 Upregulation by a Short Non-Coding Vir...   \n",
       "2      [Hepatitis B virus induces RNR-R2 expression v...   \n",
       "3      [Mechanism of Hepatitis B Virus cccDNA Formation]   \n",
       "4      [Improving Therapeutic Vaccination against Hep...   \n",
       "...                                                  ...   \n",
       "10074  [[Seasonal rhythms in the functioning of the e...   \n",
       "10075  [Physiologic 24-hour periodicity and hepatic p...   \n",
       "10076  [Adrenal hormones and phospholipid metabolism ...   \n",
       "10077  [[Studies on the effects of nitrogen mustard a...   \n",
       "10078  [Phospholipid metabolism in rat liver slices; ...   \n",
       "\n",
       "                                                Abstract Body RefTo  \\\n",
       "0      [Background & aims:                    Covalen...              \n",
       "1      [DNA viruses require dNTPs for replication and...              \n",
       "2      [Background & aims:                    Hepatit...              \n",
       "3      [Hepatitis B virus (HBV) remains a major medic...              \n",
       "4      [Chronic hepatitis B affects more than 250 mil...              \n",
       "...                                                  ...  ...   ...   \n",
       "10074                                                 []              \n",
       "10075                                                 []              \n",
       "10076                                                 []              \n",
       "10077                                                 []              \n",
       "10078                                                 []              \n",
       "\n",
       "                                                 Authors RefBy      DatePub  \\\n",
       "0      {'Name': ['Bernd Stadelmayer', 'Audrey Diederi...        2020 Feb 20   \n",
       "1      {'Name': ['Karin Broennimann', 'Inna Ricardo-L...                      \n",
       "2      {'Name': ['Inna Ricardo-Lax', 'Vyas Ramanan', ...        2015 May 27   \n",
       "3      {'Name': ['Lei Wei', 'Alexander Ploss', 'Lei W...                      \n",
       "4      {'Name': ['Percy A Knolle', 'Li-Rung Huang', '...                      \n",
       "...                                                  ...   ...          ...   \n",
       "10074  {'Name': ['M G Kolpakov', 'S G Kolaeva', 'G S ...                      \n",
       "10075  {'Name': ['C P BARNUM', 'J J BITTNER', 'F HALB...                      \n",
       "10076  {'Name': ['C P BARNUM', 'E HALBERG', 'F HALBER...                      \n",
       "10077  {'Name': ['R FRANKE', 'F H THIELE', 'N KELLER'...                      \n",
       "10078  {'Name': ['D KLINE', 'R J ROSSITER', 'D KLINE'...                      \n",
       "\n",
       "              url LibName Similar  \n",
       "0      /32087349/  PubMed          \n",
       "1      /34944466/  PubMed          \n",
       "2      /26026873/  PubMed          \n",
       "3      /34452329/  PubMed          \n",
       "4      /34835264/  PubMed          \n",
       "...           ...     ...     ...  \n",
       "10074   /4351110/  PubMed          \n",
       "10075  /13362550/  PubMed          \n",
       "10076  /13375552/  PubMed          \n",
       "10077  /13090978/  PubMed          \n",
       "10078  /13404530/  PubMed          \n",
       "\n",
       "[10079 rows x 11 columns]"
      ]
     },
     "execution_count": 112,
     "metadata": {},
     "output_type": "execute_result"
    }
   ],
   "source": [
    "df"
   ]
  },
  {
   "cell_type": "markdown",
   "metadata": {},
   "source": [
    "# cleaning data"
   ]
  },
  {
   "cell_type": "code",
   "execution_count": 113,
   "metadata": {},
   "outputs": [],
   "source": [
    "df.dropna(inplace=True)\n",
    "df.drop(df[df['Abstract'].map(len) == 0].index, inplace=True) # delete where abstract is an empty array\n",
    "df.drop(df[df['Title'].map(len) == 0].index, inplace=True) # delete where title is an empty array\n",
    "df['Abstract2'] = [' '.join(map(str, l)) for l in df['Abstract']] # concat array in a single string\n",
    "df['Title2'] = [' '.join(map(str, l)) for l in df['Title']]\n"
   ]
  },
  {
   "cell_type": "code",
   "execution_count": 114,
   "metadata": {},
   "outputs": [
    {
     "data": {
      "text/html": [
       "<div>\n",
       "<style scoped>\n",
       "    .dataframe tbody tr th:only-of-type {\n",
       "        vertical-align: middle;\n",
       "    }\n",
       "\n",
       "    .dataframe tbody tr th {\n",
       "        vertical-align: top;\n",
       "    }\n",
       "\n",
       "    .dataframe thead th {\n",
       "        text-align: right;\n",
       "    }\n",
       "</style>\n",
       "<table border=\"1\" class=\"dataframe\">\n",
       "  <thead>\n",
       "    <tr style=\"text-align: right;\">\n",
       "      <th></th>\n",
       "      <th>index</th>\n",
       "      <th>Title</th>\n",
       "      <th>Abstract</th>\n",
       "      <th>Body</th>\n",
       "      <th>RefTo</th>\n",
       "      <th>Authors</th>\n",
       "      <th>RefBy</th>\n",
       "      <th>DatePub</th>\n",
       "      <th>url</th>\n",
       "      <th>LibName</th>\n",
       "      <th>Similar</th>\n",
       "      <th>Abstract2</th>\n",
       "      <th>Title2</th>\n",
       "    </tr>\n",
       "  </thead>\n",
       "  <tbody>\n",
       "    <tr>\n",
       "      <th>0</th>\n",
       "      <td>doi:10.1016/j.jhep.2020.01.028.</td>\n",
       "      <td>[Full-length 5'RACE identifies all major HBV t...</td>\n",
       "      <td>[Background &amp; aims:                    Covalen...</td>\n",
       "      <td></td>\n",
       "      <td></td>\n",
       "      <td>{'Name': ['Bernd Stadelmayer', 'Audrey Diederi...</td>\n",
       "      <td></td>\n",
       "      <td>2020 Feb 20</td>\n",
       "      <td>/32087349/</td>\n",
       "      <td>PubMed</td>\n",
       "      <td></td>\n",
       "      <td>Background &amp; aims:                    Covalent...</td>\n",
       "      <td>Full-length 5'RACE identifies all major HBV tr...</td>\n",
       "    </tr>\n",
       "    <tr>\n",
       "      <th>1</th>\n",
       "      <td>doi:10.3390/biom11121822.</td>\n",
       "      <td>[RNR-R2 Upregulation by a Short Non-Coding Vir...</td>\n",
       "      <td>[DNA viruses require dNTPs for replication and...</td>\n",
       "      <td></td>\n",
       "      <td></td>\n",
       "      <td>{'Name': ['Karin Broennimann', 'Inna Ricardo-L...</td>\n",
       "      <td></td>\n",
       "      <td></td>\n",
       "      <td>/34944466/</td>\n",
       "      <td>PubMed</td>\n",
       "      <td></td>\n",
       "      <td>DNA viruses require dNTPs for replication and ...</td>\n",
       "      <td>RNR-R2 Upregulation by a Short Non-Coding Vira...</td>\n",
       "    </tr>\n",
       "    <tr>\n",
       "      <th>2</th>\n",
       "      <td>doi:10.1016/j.jhep.2015.05.017.</td>\n",
       "      <td>[Hepatitis B virus induces RNR-R2 expression v...</td>\n",
       "      <td>[Background &amp; aims:                    Hepatit...</td>\n",
       "      <td></td>\n",
       "      <td></td>\n",
       "      <td>{'Name': ['Inna Ricardo-Lax', 'Vyas Ramanan', ...</td>\n",
       "      <td></td>\n",
       "      <td>2015 May 27</td>\n",
       "      <td>/26026873/</td>\n",
       "      <td>PubMed</td>\n",
       "      <td></td>\n",
       "      <td>Background &amp; aims:                    Hepatiti...</td>\n",
       "      <td>Hepatitis B virus induces RNR-R2 expression vi...</td>\n",
       "    </tr>\n",
       "    <tr>\n",
       "      <th>3</th>\n",
       "      <td>doi:10.3390/v13081463.</td>\n",
       "      <td>[Mechanism of Hepatitis B Virus cccDNA Formation]</td>\n",
       "      <td>[Hepatitis B virus (HBV) remains a major medic...</td>\n",
       "      <td></td>\n",
       "      <td></td>\n",
       "      <td>{'Name': ['Lei Wei', 'Alexander Ploss', 'Lei W...</td>\n",
       "      <td></td>\n",
       "      <td></td>\n",
       "      <td>/34452329/</td>\n",
       "      <td>PubMed</td>\n",
       "      <td></td>\n",
       "      <td>Hepatitis B virus (HBV) remains a major medica...</td>\n",
       "      <td>Mechanism of Hepatitis B Virus cccDNA Formation</td>\n",
       "    </tr>\n",
       "    <tr>\n",
       "      <th>4</th>\n",
       "      <td>doi:10.3390/vaccines9111333.</td>\n",
       "      <td>[Improving Therapeutic Vaccination against Hep...</td>\n",
       "      <td>[Chronic hepatitis B affects more than 250 mil...</td>\n",
       "      <td></td>\n",
       "      <td></td>\n",
       "      <td>{'Name': ['Percy A Knolle', 'Li-Rung Huang', '...</td>\n",
       "      <td></td>\n",
       "      <td></td>\n",
       "      <td>/34835264/</td>\n",
       "      <td>PubMed</td>\n",
       "      <td></td>\n",
       "      <td>Chronic hepatitis B affects more than 250 mill...</td>\n",
       "      <td>Improving Therapeutic Vaccination against Hepa...</td>\n",
       "    </tr>\n",
       "    <tr>\n",
       "      <th>...</th>\n",
       "      <td>...</td>\n",
       "      <td>...</td>\n",
       "      <td>...</td>\n",
       "      <td>...</td>\n",
       "      <td>...</td>\n",
       "      <td>...</td>\n",
       "      <td>...</td>\n",
       "      <td>...</td>\n",
       "      <td>...</td>\n",
       "      <td>...</td>\n",
       "      <td>...</td>\n",
       "      <td>...</td>\n",
       "      <td>...</td>\n",
       "    </tr>\n",
       "    <tr>\n",
       "      <th>10064</th>\n",
       "      <td>doi:10.1523/JNEUROSCI.21-20-07937.2001.</td>\n",
       "      <td>[Oscillating on borrowed time: diffusible sign...</td>\n",
       "      <td>[The capacity to generate circadian rhythms en...</td>\n",
       "      <td></td>\n",
       "      <td></td>\n",
       "      <td>{'Name': ['G Allen', 'J Rappe', 'D J Earnest',...</td>\n",
       "      <td></td>\n",
       "      <td></td>\n",
       "      <td>/11588167/</td>\n",
       "      <td>PubMed</td>\n",
       "      <td></td>\n",
       "      <td>The capacity to generate circadian rhythms end...</td>\n",
       "      <td>Oscillating on borrowed time: diffusible signa...</td>\n",
       "    </tr>\n",
       "    <tr>\n",
       "      <th>10065</th>\n",
       "      <td>doi:10.1007/s00424-020-02381-6.</td>\n",
       "      <td>[Metabolic implications of circadian disruption]</td>\n",
       "      <td>[Circadian rhythms are generated by the circad...</td>\n",
       "      <td></td>\n",
       "      <td></td>\n",
       "      <td>{'Name': ['Narjis Fatima', 'Sobia Rana', 'Narj...</td>\n",
       "      <td></td>\n",
       "      <td>2020 May 4</td>\n",
       "      <td>/32363530/</td>\n",
       "      <td>PubMed</td>\n",
       "      <td></td>\n",
       "      <td>Circadian rhythms are generated by the circadi...</td>\n",
       "      <td>Metabolic implications of circadian disruption</td>\n",
       "    </tr>\n",
       "    <tr>\n",
       "      <th>10066</th>\n",
       "      <td>doi:10.1002/bies.201700216.</td>\n",
       "      <td>[Temperature-controlled Rhythmic Gene Expressi...</td>\n",
       "      <td>[The circadian clock is a cell autonomous osci...</td>\n",
       "      <td></td>\n",
       "      <td></td>\n",
       "      <td>{'Name': ['Marco Preußner', 'Florian Heyd', 'M...</td>\n",
       "      <td></td>\n",
       "      <td>2018 Jun 4</td>\n",
       "      <td>/29869389/</td>\n",
       "      <td>PubMed</td>\n",
       "      <td></td>\n",
       "      <td>The circadian clock is a cell autonomous oscil...</td>\n",
       "      <td>Temperature-controlled Rhythmic Gene Expressio...</td>\n",
       "    </tr>\n",
       "    <tr>\n",
       "      <th>10067</th>\n",
       "      <td>PMIDPMID:      1910594</td>\n",
       "      <td>[Biomarkers of aging: changes in circadian rhy...</td>\n",
       "      <td>[Twenty-four hour (circadian) rhythmicity is a...</td>\n",
       "      <td></td>\n",
       "      <td></td>\n",
       "      <td>{'Name': ['P H Duffy', 'R J Feuers', 'P H Duff...</td>\n",
       "      <td></td>\n",
       "      <td></td>\n",
       "      <td>/1910594/</td>\n",
       "      <td>PubMed</td>\n",
       "      <td></td>\n",
       "      <td>Twenty-four hour (circadian) rhythmicity is an...</td>\n",
       "      <td>Biomarkers of aging: changes in circadian rhyt...</td>\n",
       "    </tr>\n",
       "    <tr>\n",
       "      <th>10071</th>\n",
       "      <td>PMIDPMID:      940301</td>\n",
       "      <td>[Permanent outdoor housing for woodchucks, Mar...</td>\n",
       "      <td>[Permanent outdoor housing for woodchucks (Mar...</td>\n",
       "      <td></td>\n",
       "      <td></td>\n",
       "      <td>{'Name': ['T F Albert', 'A L Ingling', 'J N Se...</td>\n",
       "      <td></td>\n",
       "      <td></td>\n",
       "      <td>/940301/</td>\n",
       "      <td>PubMed</td>\n",
       "      <td></td>\n",
       "      <td>Permanent outdoor housing for woodchucks (Marm...</td>\n",
       "      <td>Permanent outdoor housing for woodchucks, Marm...</td>\n",
       "    </tr>\n",
       "  </tbody>\n",
       "</table>\n",
       "<p>9901 rows × 13 columns</p>\n",
       "</div>"
      ],
      "text/plain": [
       "                                         index  \\\n",
       "0              doi:10.1016/j.jhep.2020.01.028.   \n",
       "1                    doi:10.3390/biom11121822.   \n",
       "2              doi:10.1016/j.jhep.2015.05.017.   \n",
       "3                       doi:10.3390/v13081463.   \n",
       "4                 doi:10.3390/vaccines9111333.   \n",
       "...                                        ...   \n",
       "10064  doi:10.1523/JNEUROSCI.21-20-07937.2001.   \n",
       "10065          doi:10.1007/s00424-020-02381-6.   \n",
       "10066              doi:10.1002/bies.201700216.   \n",
       "10067                   PMIDPMID:      1910594   \n",
       "10071                    PMIDPMID:      940301   \n",
       "\n",
       "                                                   Title  \\\n",
       "0      [Full-length 5'RACE identifies all major HBV t...   \n",
       "1      [RNR-R2 Upregulation by a Short Non-Coding Vir...   \n",
       "2      [Hepatitis B virus induces RNR-R2 expression v...   \n",
       "3      [Mechanism of Hepatitis B Virus cccDNA Formation]   \n",
       "4      [Improving Therapeutic Vaccination against Hep...   \n",
       "...                                                  ...   \n",
       "10064  [Oscillating on borrowed time: diffusible sign...   \n",
       "10065   [Metabolic implications of circadian disruption]   \n",
       "10066  [Temperature-controlled Rhythmic Gene Expressi...   \n",
       "10067  [Biomarkers of aging: changes in circadian rhy...   \n",
       "10071  [Permanent outdoor housing for woodchucks, Mar...   \n",
       "\n",
       "                                                Abstract Body RefTo  \\\n",
       "0      [Background & aims:                    Covalen...              \n",
       "1      [DNA viruses require dNTPs for replication and...              \n",
       "2      [Background & aims:                    Hepatit...              \n",
       "3      [Hepatitis B virus (HBV) remains a major medic...              \n",
       "4      [Chronic hepatitis B affects more than 250 mil...              \n",
       "...                                                  ...  ...   ...   \n",
       "10064  [The capacity to generate circadian rhythms en...              \n",
       "10065  [Circadian rhythms are generated by the circad...              \n",
       "10066  [The circadian clock is a cell autonomous osci...              \n",
       "10067  [Twenty-four hour (circadian) rhythmicity is a...              \n",
       "10071  [Permanent outdoor housing for woodchucks (Mar...              \n",
       "\n",
       "                                                 Authors RefBy      DatePub  \\\n",
       "0      {'Name': ['Bernd Stadelmayer', 'Audrey Diederi...        2020 Feb 20   \n",
       "1      {'Name': ['Karin Broennimann', 'Inna Ricardo-L...                      \n",
       "2      {'Name': ['Inna Ricardo-Lax', 'Vyas Ramanan', ...        2015 May 27   \n",
       "3      {'Name': ['Lei Wei', 'Alexander Ploss', 'Lei W...                      \n",
       "4      {'Name': ['Percy A Knolle', 'Li-Rung Huang', '...                      \n",
       "...                                                  ...   ...          ...   \n",
       "10064  {'Name': ['G Allen', 'J Rappe', 'D J Earnest',...                      \n",
       "10065  {'Name': ['Narjis Fatima', 'Sobia Rana', 'Narj...         2020 May 4   \n",
       "10066  {'Name': ['Marco Preußner', 'Florian Heyd', 'M...         2018 Jun 4   \n",
       "10067  {'Name': ['P H Duffy', 'R J Feuers', 'P H Duff...                      \n",
       "10071  {'Name': ['T F Albert', 'A L Ingling', 'J N Se...                      \n",
       "\n",
       "              url LibName Similar  \\\n",
       "0      /32087349/  PubMed           \n",
       "1      /34944466/  PubMed           \n",
       "2      /26026873/  PubMed           \n",
       "3      /34452329/  PubMed           \n",
       "4      /34835264/  PubMed           \n",
       "...           ...     ...     ...   \n",
       "10064  /11588167/  PubMed           \n",
       "10065  /32363530/  PubMed           \n",
       "10066  /29869389/  PubMed           \n",
       "10067   /1910594/  PubMed           \n",
       "10071    /940301/  PubMed           \n",
       "\n",
       "                                               Abstract2  \\\n",
       "0      Background & aims:                    Covalent...   \n",
       "1      DNA viruses require dNTPs for replication and ...   \n",
       "2      Background & aims:                    Hepatiti...   \n",
       "3      Hepatitis B virus (HBV) remains a major medica...   \n",
       "4      Chronic hepatitis B affects more than 250 mill...   \n",
       "...                                                  ...   \n",
       "10064  The capacity to generate circadian rhythms end...   \n",
       "10065  Circadian rhythms are generated by the circadi...   \n",
       "10066  The circadian clock is a cell autonomous oscil...   \n",
       "10067  Twenty-four hour (circadian) rhythmicity is an...   \n",
       "10071  Permanent outdoor housing for woodchucks (Marm...   \n",
       "\n",
       "                                                  Title2  \n",
       "0      Full-length 5'RACE identifies all major HBV tr...  \n",
       "1      RNR-R2 Upregulation by a Short Non-Coding Vira...  \n",
       "2      Hepatitis B virus induces RNR-R2 expression vi...  \n",
       "3        Mechanism of Hepatitis B Virus cccDNA Formation  \n",
       "4      Improving Therapeutic Vaccination against Hepa...  \n",
       "...                                                  ...  \n",
       "10064  Oscillating on borrowed time: diffusible signa...  \n",
       "10065     Metabolic implications of circadian disruption  \n",
       "10066  Temperature-controlled Rhythmic Gene Expressio...  \n",
       "10067  Biomarkers of aging: changes in circadian rhyt...  \n",
       "10071  Permanent outdoor housing for woodchucks, Marm...  \n",
       "\n",
       "[9901 rows x 13 columns]"
      ]
     },
     "execution_count": 114,
     "metadata": {},
     "output_type": "execute_result"
    }
   ],
   "source": [
    "df"
   ]
  },
  {
   "cell_type": "markdown",
   "metadata": {},
   "source": [
    "# Article language"
   ]
  },
  {
   "cell_type": "markdown",
   "metadata": {},
   "source": [
    "## with abstract"
   ]
  },
  {
   "cell_type": "code",
   "execution_count": 115,
   "metadata": {},
   "outputs": [],
   "source": [
    "tqdm.pandas() #to display progress bar"
   ]
  },
  {
   "cell_type": "code",
   "execution_count": 116,
   "metadata": {},
   "outputs": [
    {
     "name": "stderr",
     "output_type": "stream",
     "text": [
      "100%|██████████| 9901/9901 [01:15<00:00, 131.71it/s]\n"
     ]
    }
   ],
   "source": [
    "from tqdm import tqdm\n",
    "from langdetect import detect\n",
    "from langdetect import DetectorFactory\n",
    "\n",
    "# set seed\n",
    "DetectorFactory.seed = 0\n",
    "\n",
    "# hold label - language\n",
    "languages = []\n",
    "\n",
    "# go through each text\n",
    "for ii in tqdm(range(0,len(df))):\n",
    "    # split by space into list, take the first x intex, join with space\n",
    "    text = df.iloc[ii]['Abstract2'].split(\" \")\n",
    "    \n",
    "    lang = \"en\"\n",
    "    try:\n",
    "        if len(text) > 50:\n",
    "            lang = detect(\" \".join(text[:50]))\n",
    "        elif len(text) > 0:\n",
    "            lang = detect(\" \".join(text[:len(text)]))\n",
    "    # ught... beginning of the document was not in a good format\n",
    "    except Exception as e:\n",
    "        all_words = set(text)\n",
    "        try:\n",
    "            lang = detect(\" \".join(all_words))\n",
    "        # what!! :( let's see if we can find any text in abstract...\n",
    "        except Exception as e:\n",
    "            \n",
    "            try:\n",
    "                # let's try to label it through the abstract then\n",
    "                lang = detect(df.iloc[ii]['Abstract2'])\n",
    "            except Exception as e:\n",
    "                lang = \"unknown\"\n",
    "                pass\n",
    "    \n",
    "    # get the language    \n",
    "    languages.append(lang)"
   ]
  },
  {
   "cell_type": "code",
   "execution_count": 117,
   "metadata": {},
   "outputs": [
    {
     "name": "stdout",
     "output_type": "stream",
     "text": [
      "Total: 9901\n",
      "\n",
      "{'en': 9901}\n"
     ]
    }
   ],
   "source": [
    "languages_dict = {}\n",
    "for lang in set(languages):\n",
    "    languages_dict[lang] = languages.count(lang)\n",
    "    \n",
    "print(\"Total: {}\\n\".format(len(languages)))\n",
    "print(languages_dict)"
   ]
  },
  {
   "cell_type": "code",
   "execution_count": 118,
   "metadata": {},
   "outputs": [
    {
     "data": {
      "image/png": "[encoded data removed]",
      "text/plain": [
       "<Figure size 936x648 with 1 Axes>"
      ]
     },
     "metadata": {},
     "output_type": "display_data"
    }
   ],
   "source": [
    "df['language'] = languages\n",
    "\n",
    "inter_len = 645\n",
    "\n",
    "plt.bar(range(len(languages_dict)), list(languages_dict.values()), align='center')\n",
    "plt.xticks(range(len(languages_dict)), list(languages_dict.keys()))\n",
    "plt.title(\"Distribution of Languages in Dataset\")\n",
    "plt.show()"
   ]
  },
  {
   "cell_type": "markdown",
   "metadata": {},
   "source": [
    "# NLP\n"
   ]
  },
  {
   "cell_type": "code",
   "execution_count": 119,
   "metadata": {},
   "outputs": [
    {
     "data": {
      "text/plain": [
       "['‘ve',\n",
       " 'with',\n",
       " 'first',\n",
       " 'would',\n",
       " 'anything',\n",
       " 'even',\n",
       " 'of',\n",
       " 'against',\n",
       " 'myself',\n",
       " 'formerly']"
      ]
     },
     "execution_count": 119,
     "metadata": {},
     "output_type": "execute_result"
    }
   ],
   "source": [
    "import string\n",
    "from spacy.lang.en.stop_words import STOP_WORDS\n",
    "\n",
    "punctuations = string.punctuation\n",
    "stopwords = list(STOP_WORDS)\n",
    "stopwords[:10]"
   ]
  },
  {
   "cell_type": "code",
   "execution_count": 120,
   "metadata": {},
   "outputs": [],
   "source": [
    "# Add to stopword some customs:\n",
    "custom_stop_words = [\n",
    "    'doi', 'preprint', 'copyright', 'peer', 'reviewed', 'org', 'https', 'et', 'al', 'author', 'figure', \n",
    "    'rights', 'reserved', 'permission', 'used', 'using', 'biorxiv', 'medrxiv', 'license', 'fig', 'fig.', \n",
    "    'al.', 'Elsevier', 'PMC', 'CZI'\n",
    "]\n",
    "\n",
    "for w in custom_stop_words:\n",
    "    if w not in stopwords:\n",
    "        stopwords.append(w)"
   ]
  },
  {
   "cell_type": "code",
   "execution_count": 121,
   "metadata": {},
   "outputs": [
    {
     "name": "stderr",
     "output_type": "stream",
     "text": [
      "C:\\Users\\rouxa\\anaconda3\\lib\\site-packages\\spacy\\util.py:275: UserWarning: [W031] Model 'en_core_sci_lg' (0.2.4) requires spaCy v2.2 and is incompatible with the current spaCy version (2.3.7). This may lead to unexpected results or runtime errors. To resolve this, download a newer compatible model or retrain your custom model with the current spaCy version. For more details and available updates, run: python -m spacy validate\n",
      "  warnings.warn(warn_msg)\n"
     ]
    }
   ],
   "source": [
    "# en_core_sci_lg  => https://allenai.github.io/scispacy/\n",
    "# A full spaCy pipeline for biomedical data with a larger vocabulary and 600k word vectors.\n",
    "\n",
    "import en_core_sci_lg\n",
    "\n",
    "parser = en_core_sci_lg.load(disable=[\"tagger\", \"ner\"])\n",
    "parser.max_length = 7000000\n",
    "\n",
    "def spacy_tokenizer(sentence):\n",
    "    mytokens = parser(sentence)\n",
    "    mytokens = [ word.lemma_.lower().strip() if word.lemma_ != \"-PRON-\" else word.lower_ for word in mytokens ]\n",
    "    mytokens = [ word for word in mytokens if word not in stopwords and word not in punctuations ]\n",
    "    mytokens = \" \".join([i for i in mytokens])\n",
    "    return mytokens"
   ]
  },
  {
   "cell_type": "code",
   "execution_count": 122,
   "metadata": {},
   "outputs": [],
   "source": [
    "import spacy"
   ]
  },
  {
   "cell_type": "code",
   "execution_count": 123,
   "metadata": {},
   "outputs": [
    {
     "name": "stderr",
     "output_type": "stream",
     "text": [
      "100%|██████████| 9901/9901 [03:18<00:00, 49.77it/s]\n"
     ]
    }
   ],
   "source": [
    "from tqdm import tqdm\n",
    "tqdm.pandas() #to display progress bar\n",
    "df[\"processed_abstract\"] = df[\"Abstract2\"].progress_apply(spacy_tokenizer)"
   ]
  },
  {
   "cell_type": "code",
   "execution_count": 124,
   "metadata": {},
   "outputs": [
    {
     "data": {
      "text/html": [
       "<div>\n",
       "<style scoped>\n",
       "    .dataframe tbody tr th:only-of-type {\n",
       "        vertical-align: middle;\n",
       "    }\n",
       "\n",
       "    .dataframe tbody tr th {\n",
       "        vertical-align: top;\n",
       "    }\n",
       "\n",
       "    .dataframe thead th {\n",
       "        text-align: right;\n",
       "    }\n",
       "</style>\n",
       "<table border=\"1\" class=\"dataframe\">\n",
       "  <thead>\n",
       "    <tr style=\"text-align: right;\">\n",
       "      <th></th>\n",
       "      <th>index</th>\n",
       "      <th>Title</th>\n",
       "      <th>Abstract</th>\n",
       "      <th>Body</th>\n",
       "      <th>RefTo</th>\n",
       "      <th>Authors</th>\n",
       "      <th>RefBy</th>\n",
       "      <th>DatePub</th>\n",
       "      <th>url</th>\n",
       "      <th>LibName</th>\n",
       "      <th>Similar</th>\n",
       "      <th>Abstract2</th>\n",
       "      <th>Title2</th>\n",
       "      <th>language</th>\n",
       "      <th>processed_abstract</th>\n",
       "    </tr>\n",
       "  </thead>\n",
       "  <tbody>\n",
       "    <tr>\n",
       "      <th>0</th>\n",
       "      <td>doi:10.1016/j.jhep.2020.01.028.</td>\n",
       "      <td>[Full-length 5'RACE identifies all major HBV t...</td>\n",
       "      <td>[Background &amp; aims:                    Covalen...</td>\n",
       "      <td></td>\n",
       "      <td></td>\n",
       "      <td>{'Name': ['Bernd Stadelmayer', 'Audrey Diederi...</td>\n",
       "      <td></td>\n",
       "      <td>2020 Feb 20</td>\n",
       "      <td>/32087349/</td>\n",
       "      <td>PubMed</td>\n",
       "      <td></td>\n",
       "      <td>Background &amp; aims:                    Covalent...</td>\n",
       "      <td>Full-length 5'RACE identifies all major HBV tr...</td>\n",
       "      <td>en</td>\n",
       "      <td>background aim covalently close circular dna c...</td>\n",
       "    </tr>\n",
       "    <tr>\n",
       "      <th>1</th>\n",
       "      <td>doi:10.3390/biom11121822.</td>\n",
       "      <td>[RNR-R2 Upregulation by a Short Non-Coding Vir...</td>\n",
       "      <td>[DNA viruses require dNTPs for replication and...</td>\n",
       "      <td></td>\n",
       "      <td></td>\n",
       "      <td>{'Name': ['Karin Broennimann', 'Inna Ricardo-L...</td>\n",
       "      <td></td>\n",
       "      <td></td>\n",
       "      <td>/34944466/</td>\n",
       "      <td>PubMed</td>\n",
       "      <td></td>\n",
       "      <td>DNA viruses require dNTPs for replication and ...</td>\n",
       "      <td>RNR-R2 Upregulation by a Short Non-Coding Vira...</td>\n",
       "      <td>en</td>\n",
       "      <td>dna virus require dntps replication develope d...</td>\n",
       "    </tr>\n",
       "    <tr>\n",
       "      <th>2</th>\n",
       "      <td>doi:10.1016/j.jhep.2015.05.017.</td>\n",
       "      <td>[Hepatitis B virus induces RNR-R2 expression v...</td>\n",
       "      <td>[Background &amp; aims:                    Hepatit...</td>\n",
       "      <td></td>\n",
       "      <td></td>\n",
       "      <td>{'Name': ['Inna Ricardo-Lax', 'Vyas Ramanan', ...</td>\n",
       "      <td></td>\n",
       "      <td>2015 May 27</td>\n",
       "      <td>/26026873/</td>\n",
       "      <td>PubMed</td>\n",
       "      <td></td>\n",
       "      <td>Background &amp; aims:                    Hepatiti...</td>\n",
       "      <td>Hepatitis B virus induces RNR-R2 expression vi...</td>\n",
       "      <td>en</td>\n",
       "      <td>background aim hepatitis b virus hbv infect re...</td>\n",
       "    </tr>\n",
       "    <tr>\n",
       "      <th>3</th>\n",
       "      <td>doi:10.3390/v13081463.</td>\n",
       "      <td>[Mechanism of Hepatitis B Virus cccDNA Formation]</td>\n",
       "      <td>[Hepatitis B virus (HBV) remains a major medic...</td>\n",
       "      <td></td>\n",
       "      <td></td>\n",
       "      <td>{'Name': ['Lei Wei', 'Alexander Ploss', 'Lei W...</td>\n",
       "      <td></td>\n",
       "      <td></td>\n",
       "      <td>/34452329/</td>\n",
       "      <td>PubMed</td>\n",
       "      <td></td>\n",
       "      <td>Hepatitis B virus (HBV) remains a major medica...</td>\n",
       "      <td>Mechanism of Hepatitis B Virus cccDNA Formation</td>\n",
       "      <td>en</td>\n",
       "      <td>hepatitis b virus hbv remain major medical pro...</td>\n",
       "    </tr>\n",
       "    <tr>\n",
       "      <th>4</th>\n",
       "      <td>doi:10.3390/vaccines9111333.</td>\n",
       "      <td>[Improving Therapeutic Vaccination against Hep...</td>\n",
       "      <td>[Chronic hepatitis B affects more than 250 mil...</td>\n",
       "      <td></td>\n",
       "      <td></td>\n",
       "      <td>{'Name': ['Percy A Knolle', 'Li-Rung Huang', '...</td>\n",
       "      <td></td>\n",
       "      <td></td>\n",
       "      <td>/34835264/</td>\n",
       "      <td>PubMed</td>\n",
       "      <td></td>\n",
       "      <td>Chronic hepatitis B affects more than 250 mill...</td>\n",
       "      <td>Improving Therapeutic Vaccination against Hepa...</td>\n",
       "      <td>en</td>\n",
       "      <td>chronic hepatitis b affect 250 million individ...</td>\n",
       "    </tr>\n",
       "    <tr>\n",
       "      <th>...</th>\n",
       "      <td>...</td>\n",
       "      <td>...</td>\n",
       "      <td>...</td>\n",
       "      <td>...</td>\n",
       "      <td>...</td>\n",
       "      <td>...</td>\n",
       "      <td>...</td>\n",
       "      <td>...</td>\n",
       "      <td>...</td>\n",
       "      <td>...</td>\n",
       "      <td>...</td>\n",
       "      <td>...</td>\n",
       "      <td>...</td>\n",
       "      <td>...</td>\n",
       "      <td>...</td>\n",
       "    </tr>\n",
       "    <tr>\n",
       "      <th>10064</th>\n",
       "      <td>doi:10.1523/JNEUROSCI.21-20-07937.2001.</td>\n",
       "      <td>[Oscillating on borrowed time: diffusible sign...</td>\n",
       "      <td>[The capacity to generate circadian rhythms en...</td>\n",
       "      <td></td>\n",
       "      <td></td>\n",
       "      <td>{'Name': ['G Allen', 'J Rappe', 'D J Earnest',...</td>\n",
       "      <td></td>\n",
       "      <td></td>\n",
       "      <td>/11588167/</td>\n",
       "      <td>PubMed</td>\n",
       "      <td></td>\n",
       "      <td>The capacity to generate circadian rhythms end...</td>\n",
       "      <td>Oscillating on borrowed time: diffusible signa...</td>\n",
       "      <td>en</td>\n",
       "      <td>capacity generate circadian rhythm endogenousl...</td>\n",
       "    </tr>\n",
       "    <tr>\n",
       "      <th>10065</th>\n",
       "      <td>doi:10.1007/s00424-020-02381-6.</td>\n",
       "      <td>[Metabolic implications of circadian disruption]</td>\n",
       "      <td>[Circadian rhythms are generated by the circad...</td>\n",
       "      <td></td>\n",
       "      <td></td>\n",
       "      <td>{'Name': ['Narjis Fatima', 'Sobia Rana', 'Narj...</td>\n",
       "      <td></td>\n",
       "      <td>2020 May 4</td>\n",
       "      <td>/32363530/</td>\n",
       "      <td>PubMed</td>\n",
       "      <td></td>\n",
       "      <td>Circadian rhythms are generated by the circadi...</td>\n",
       "      <td>Metabolic implications of circadian disruption</td>\n",
       "      <td>en</td>\n",
       "      <td>circadian rhythm generate circadian clock self...</td>\n",
       "    </tr>\n",
       "    <tr>\n",
       "      <th>10066</th>\n",
       "      <td>doi:10.1002/bies.201700216.</td>\n",
       "      <td>[Temperature-controlled Rhythmic Gene Expressi...</td>\n",
       "      <td>[The circadian clock is a cell autonomous osci...</td>\n",
       "      <td></td>\n",
       "      <td></td>\n",
       "      <td>{'Name': ['Marco Preußner', 'Florian Heyd', 'M...</td>\n",
       "      <td></td>\n",
       "      <td>2018 Jun 4</td>\n",
       "      <td>/29869389/</td>\n",
       "      <td>PubMed</td>\n",
       "      <td></td>\n",
       "      <td>The circadian clock is a cell autonomous oscil...</td>\n",
       "      <td>Temperature-controlled Rhythmic Gene Expressio...</td>\n",
       "      <td>en</td>\n",
       "      <td>circadian clock cell autonomous oscillator con...</td>\n",
       "    </tr>\n",
       "    <tr>\n",
       "      <th>10067</th>\n",
       "      <td>PMIDPMID:      1910594</td>\n",
       "      <td>[Biomarkers of aging: changes in circadian rhy...</td>\n",
       "      <td>[Twenty-four hour (circadian) rhythmicity is a...</td>\n",
       "      <td></td>\n",
       "      <td></td>\n",
       "      <td>{'Name': ['P H Duffy', 'R J Feuers', 'P H Duff...</td>\n",
       "      <td></td>\n",
       "      <td></td>\n",
       "      <td>/1910594/</td>\n",
       "      <td>PubMed</td>\n",
       "      <td></td>\n",
       "      <td>Twenty-four hour (circadian) rhythmicity is an...</td>\n",
       "      <td>Biomarkers of aging: changes in circadian rhyt...</td>\n",
       "      <td>en</td>\n",
       "      <td>twenty-four hour circadian rhythmicity importa...</td>\n",
       "    </tr>\n",
       "    <tr>\n",
       "      <th>10071</th>\n",
       "      <td>PMIDPMID:      940301</td>\n",
       "      <td>[Permanent outdoor housing for woodchucks, Mar...</td>\n",
       "      <td>[Permanent outdoor housing for woodchucks (Mar...</td>\n",
       "      <td></td>\n",
       "      <td></td>\n",
       "      <td>{'Name': ['T F Albert', 'A L Ingling', 'J N Se...</td>\n",
       "      <td></td>\n",
       "      <td></td>\n",
       "      <td>/940301/</td>\n",
       "      <td>PubMed</td>\n",
       "      <td></td>\n",
       "      <td>Permanent outdoor housing for woodchucks (Marm...</td>\n",
       "      <td>Permanent outdoor housing for woodchucks, Marm...</td>\n",
       "      <td>en</td>\n",
       "      <td>permanent outdoor house woodchucks marmota mon...</td>\n",
       "    </tr>\n",
       "  </tbody>\n",
       "</table>\n",
       "<p>9901 rows × 15 columns</p>\n",
       "</div>"
      ],
      "text/plain": [
       "                                         index  \\\n",
       "0              doi:10.1016/j.jhep.2020.01.028.   \n",
       "1                    doi:10.3390/biom11121822.   \n",
       "2              doi:10.1016/j.jhep.2015.05.017.   \n",
       "3                       doi:10.3390/v13081463.   \n",
       "4                 doi:10.3390/vaccines9111333.   \n",
       "...                                        ...   \n",
       "10064  doi:10.1523/JNEUROSCI.21-20-07937.2001.   \n",
       "10065          doi:10.1007/s00424-020-02381-6.   \n",
       "10066              doi:10.1002/bies.201700216.   \n",
       "10067                   PMIDPMID:      1910594   \n",
       "10071                    PMIDPMID:      940301   \n",
       "\n",
       "                                                   Title  \\\n",
       "0      [Full-length 5'RACE identifies all major HBV t...   \n",
       "1      [RNR-R2 Upregulation by a Short Non-Coding Vir...   \n",
       "2      [Hepatitis B virus induces RNR-R2 expression v...   \n",
       "3      [Mechanism of Hepatitis B Virus cccDNA Formation]   \n",
       "4      [Improving Therapeutic Vaccination against Hep...   \n",
       "...                                                  ...   \n",
       "10064  [Oscillating on borrowed time: diffusible sign...   \n",
       "10065   [Metabolic implications of circadian disruption]   \n",
       "10066  [Temperature-controlled Rhythmic Gene Expressi...   \n",
       "10067  [Biomarkers of aging: changes in circadian rhy...   \n",
       "10071  [Permanent outdoor housing for woodchucks, Mar...   \n",
       "\n",
       "                                                Abstract Body RefTo  \\\n",
       "0      [Background & aims:                    Covalen...              \n",
       "1      [DNA viruses require dNTPs for replication and...              \n",
       "2      [Background & aims:                    Hepatit...              \n",
       "3      [Hepatitis B virus (HBV) remains a major medic...              \n",
       "4      [Chronic hepatitis B affects more than 250 mil...              \n",
       "...                                                  ...  ...   ...   \n",
       "10064  [The capacity to generate circadian rhythms en...              \n",
       "10065  [Circadian rhythms are generated by the circad...              \n",
       "10066  [The circadian clock is a cell autonomous osci...              \n",
       "10067  [Twenty-four hour (circadian) rhythmicity is a...              \n",
       "10071  [Permanent outdoor housing for woodchucks (Mar...              \n",
       "\n",
       "                                                 Authors RefBy      DatePub  \\\n",
       "0      {'Name': ['Bernd Stadelmayer', 'Audrey Diederi...        2020 Feb 20   \n",
       "1      {'Name': ['Karin Broennimann', 'Inna Ricardo-L...                      \n",
       "2      {'Name': ['Inna Ricardo-Lax', 'Vyas Ramanan', ...        2015 May 27   \n",
       "3      {'Name': ['Lei Wei', 'Alexander Ploss', 'Lei W...                      \n",
       "4      {'Name': ['Percy A Knolle', 'Li-Rung Huang', '...                      \n",
       "...                                                  ...   ...          ...   \n",
       "10064  {'Name': ['G Allen', 'J Rappe', 'D J Earnest',...                      \n",
       "10065  {'Name': ['Narjis Fatima', 'Sobia Rana', 'Narj...         2020 May 4   \n",
       "10066  {'Name': ['Marco Preußner', 'Florian Heyd', 'M...         2018 Jun 4   \n",
       "10067  {'Name': ['P H Duffy', 'R J Feuers', 'P H Duff...                      \n",
       "10071  {'Name': ['T F Albert', 'A L Ingling', 'J N Se...                      \n",
       "\n",
       "              url LibName Similar  \\\n",
       "0      /32087349/  PubMed           \n",
       "1      /34944466/  PubMed           \n",
       "2      /26026873/  PubMed           \n",
       "3      /34452329/  PubMed           \n",
       "4      /34835264/  PubMed           \n",
       "...           ...     ...     ...   \n",
       "10064  /11588167/  PubMed           \n",
       "10065  /32363530/  PubMed           \n",
       "10066  /29869389/  PubMed           \n",
       "10067   /1910594/  PubMed           \n",
       "10071    /940301/  PubMed           \n",
       "\n",
       "                                               Abstract2  \\\n",
       "0      Background & aims:                    Covalent...   \n",
       "1      DNA viruses require dNTPs for replication and ...   \n",
       "2      Background & aims:                    Hepatiti...   \n",
       "3      Hepatitis B virus (HBV) remains a major medica...   \n",
       "4      Chronic hepatitis B affects more than 250 mill...   \n",
       "...                                                  ...   \n",
       "10064  The capacity to generate circadian rhythms end...   \n",
       "10065  Circadian rhythms are generated by the circadi...   \n",
       "10066  The circadian clock is a cell autonomous oscil...   \n",
       "10067  Twenty-four hour (circadian) rhythmicity is an...   \n",
       "10071  Permanent outdoor housing for woodchucks (Marm...   \n",
       "\n",
       "                                                  Title2 language  \\\n",
       "0      Full-length 5'RACE identifies all major HBV tr...       en   \n",
       "1      RNR-R2 Upregulation by a Short Non-Coding Vira...       en   \n",
       "2      Hepatitis B virus induces RNR-R2 expression vi...       en   \n",
       "3        Mechanism of Hepatitis B Virus cccDNA Formation       en   \n",
       "4      Improving Therapeutic Vaccination against Hepa...       en   \n",
       "...                                                  ...      ...   \n",
       "10064  Oscillating on borrowed time: diffusible signa...       en   \n",
       "10065     Metabolic implications of circadian disruption       en   \n",
       "10066  Temperature-controlled Rhythmic Gene Expressio...       en   \n",
       "10067  Biomarkers of aging: changes in circadian rhyt...       en   \n",
       "10071  Permanent outdoor housing for woodchucks, Marm...       en   \n",
       "\n",
       "                                      processed_abstract  \n",
       "0      background aim covalently close circular dna c...  \n",
       "1      dna virus require dntps replication develope d...  \n",
       "2      background aim hepatitis b virus hbv infect re...  \n",
       "3      hepatitis b virus hbv remain major medical pro...  \n",
       "4      chronic hepatitis b affect 250 million individ...  \n",
       "...                                                  ...  \n",
       "10064  capacity generate circadian rhythm endogenousl...  \n",
       "10065  circadian rhythm generate circadian clock self...  \n",
       "10066  circadian clock cell autonomous oscillator con...  \n",
       "10067  twenty-four hour circadian rhythmicity importa...  \n",
       "10071  permanent outdoor house woodchucks marmota mon...  \n",
       "\n",
       "[9901 rows x 15 columns]"
      ]
     },
     "execution_count": 124,
     "metadata": {},
     "output_type": "execute_result"
    }
   ],
   "source": [
    "df"
   ]
  },
  {
   "cell_type": "markdown",
   "metadata": {},
   "source": [
    "# Vectorization"
   ]
  },
  {
   "cell_type": "code",
   "execution_count": 125,
   "metadata": {},
   "outputs": [],
   "source": [
    "from sklearn.feature_extraction.text import TfidfVectorizer\n",
    "\n",
    "def vectorize(text, maxx_features):\n",
    "    \n",
    "    vectorizer = TfidfVectorizer(max_features=maxx_features)\n",
    "    X = vectorizer.fit_transform(text)\n",
    "    return X"
   ]
  },
  {
   "cell_type": "code",
   "execution_count": 126,
   "metadata": {},
   "outputs": [],
   "source": [
    "text = df['processed_abstract'].values\n",
    "max_features = 2**12\n",
    "\n",
    "X = vectorize(text, max_features)"
   ]
  },
  {
   "cell_type": "markdown",
   "metadata": {},
   "source": [
    "# PCA  & Clustering\n",
    "\n",
    "Let's see how much we can reduce the dimensions while still keeping 95% variance. We will apply Principle Component Analysis (PCA) to our vectorized data. This will reduce the complexity of our dimensionality reduction step and filter noise."
   ]
  },
  {
   "cell_type": "code",
   "execution_count": 127,
   "metadata": {},
   "outputs": [
    {
     "data": {
      "text/plain": [
       "(9901, 2581)"
      ]
     },
     "execution_count": 127,
     "metadata": {},
     "output_type": "execute_result"
    }
   ],
   "source": [
    "from sklearn.decomposition import PCA\n",
    "\n",
    "pca = PCA(n_components=0.95, random_state=42)\n",
    "X_reduced= pca.fit_transform(X.toarray())\n",
    "X_reduced.shape"
   ]
  },
  {
   "cell_type": "markdown",
   "metadata": {},
   "source": [
    "To separate the literature, k-means will be run on the vectorized text. Given the number of clusters, k, k-means will categorize each vector by taking the mean distance to a randomly initialized centroid. The centroids are updated iteratively."
   ]
  },
  {
   "cell_type": "code",
   "execution_count": 128,
   "metadata": {},
   "outputs": [],
   "source": [
    "from sklearn.cluster import MiniBatchKMeans\n",
    "from sklearn.cluster import KMeans"
   ]
  },
  {
   "cell_type": "markdown",
   "metadata": {},
   "source": [
    "### How many clusters? \n",
    "\n",
    "To find the best k value for k-means we'll look at the distortion at different k values. Distortion computes the sum of squared distances from each point to its assigned center. When distortion is plotted against k there will be a k value after which decreases in distortion are minimal. This is the desired number of clusters."
   ]
  },
  {
   "cell_type": "code",
   "execution_count": 131,
   "metadata": {},
   "outputs": [
    {
     "name": "stdout",
     "output_type": "stream",
     "text": [
      "Found distortion for 10 clusters\n"
     ]
    }
   ],
   "source": [
    "from sklearn import metrics\n",
    "from scipy.spatial.distance import cdist\n",
    "import numpy as np  # linear algebra\n",
    "\n",
    "# run kmeans with many different k\n",
    "distortions = []\n",
    "K = range(10, 25)\n",
    "for k in K:\n",
    "    k_means = KMeans(n_clusters=k, random_state=42).fit(X_reduced)\n",
    "    k_means.fit(X_reduced)\n",
    "    distortions.append(sum(np.min(cdist(X_reduced, k_means.cluster_centers_, 'euclidean'), axis=1)) / X.shape[0])\n",
    "    print('Found distortion for {} clusters'.format(k))"
   ]
  },
  {
   "cell_type": "code",
   "execution_count": null,
   "metadata": {},
   "outputs": [
    {
     "data": {
      "image/png": "[encoded data removed]",
      "text/plain": [
       "<Figure size 936x648 with 1 Axes>"
      ]
     },
     "metadata": {},
     "output_type": "display_data"
    }
   ],
   "source": [
    "X_line = [K[0], K[-1]]\n",
    "Y_line = [distortions[0], distortions[-1]]\n",
    "\n",
    "# Plot the elbow\n",
    "plt.plot(K, distortions, 'b-')\n",
    "plt.plot(X_line, Y_line, 'r')\n",
    "plt.xlabel('k')\n",
    "plt.ylabel('Distortion')\n",
    "plt.title('The Elbow Method showing the optimal k')\n",
    "plt.show()"
   ]
  },
  {
   "cell_type": "markdown",
   "metadata": {},
   "source": [
    "### Run k-means"
   ]
  },
  {
   "cell_type": "code",
   "execution_count": null,
   "metadata": {},
   "outputs": [],
   "source": [
    "k = 20\n",
    "kmeans = KMeans(n_clusters=k, random_state=42)\n",
    "y_pred = kmeans.fit_predict(X_reduced)\n",
    "df['y'] = y_pred"
   ]
  },
  {
   "cell_type": "markdown",
   "metadata": {},
   "source": [
    "# Dimensionality Reduction with t-SNE\n",
    "\n",
    "Using [t-SNE](https://lvdmaaten.github.io/tsne) we can reduce our high dimensional features vector to 2 dimensions. By using the 2 dimensions as x,y coordinates, the body_text can be plotted. t-SNE will attempt to preserve the relations of the higher dimensional data as closely as possible when shrunk to 2D. The similar article will thus be in closer proximity to each other."
   ]
  },
  {
   "cell_type": "code",
   "execution_count": null,
   "metadata": {},
   "outputs": [
    {
     "name": "stdout",
     "output_type": "stream",
     "text": [
      "[t-SNE] Computing 151 nearest neighbors...\n",
      "[t-SNE] Indexed 645 samples in 0.005s...\n",
      "[t-SNE] Computed neighbors for 645 samples in 0.045s...\n",
      "[t-SNE] Computed conditional probabilities for sample 645 / 645\n",
      "[t-SNE] Mean sigma: 0.359059\n",
      "[t-SNE] KL divergence after 250 iterations with early exaggeration: 67.077858\n",
      "[t-SNE] KL divergence after 1000 iterations: 0.897210\n"
     ]
    }
   ],
   "source": [
    "from sklearn.manifold import TSNE\n",
    "\n",
    "tsne = TSNE(verbose=1, perplexity=50)  # Changed perplexity from 100 to 50 per FAQ\n",
    "X_embedded = tsne.fit_transform(X.toarray())"
   ]
  },
  {
   "cell_type": "code",
   "execution_count": null,
   "metadata": {},
   "outputs": [
    {
     "name": "stderr",
     "output_type": "stream",
     "text": [
      "C:\\Users\\rouxa\\anaconda3\\lib\\site-packages\\seaborn\\_decorators.py:36: FutureWarning: Pass the following variables as keyword args: x, y. From version 0.12, the only valid positional argument will be `data`, and passing other arguments without an explicit keyword will result in an error or misinterpretation.\n",
      "  warnings.warn(\n"
     ]
    },
    {
     "data": {
      "image/png": "[encoded data removed]",
      "text/plain": [
       "<Figure size 1080x1080 with 1 Axes>"
      ]
     },
     "metadata": {},
     "output_type": "display_data"
    }
   ],
   "source": [
    "from matplotlib import pyplot as plt\n",
    "import seaborn as sns\n",
    "\n",
    "# sns settings\n",
    "sns.set(rc={'figure.figsize':(15,15)})\n",
    "\n",
    "# colors\n",
    "palette = sns.color_palette(\"bright\", 1)\n",
    "\n",
    "# plot\n",
    "sns.scatterplot(X_embedded[:,0], X_embedded[:,1], palette=palette)\n",
    "plt.title('t-SNE with no Labels')\n",
    "plt.savefig(\"t-sne_covid19.png\")\n",
    "plt.show()"
   ]
  },
  {
   "cell_type": "code",
   "execution_count": null,
   "metadata": {},
   "outputs": [
    {
     "name": "stderr",
     "output_type": "stream",
     "text": [
      "C:\\Users\\rouxa\\anaconda3\\lib\\site-packages\\seaborn\\_decorators.py:36: FutureWarning: Pass the following variables as keyword args: x, y. From version 0.12, the only valid positional argument will be `data`, and passing other arguments without an explicit keyword will result in an error or misinterpretation.\n",
      "  warnings.warn(\n"
     ]
    },
    {
     "data": {
      "image/png": "[encoded data removed]",
      "text/plain": [
       "<Figure size 936x648 with 1 Axes>"
      ]
     },
     "metadata": {},
     "output_type": "display_data"
    }
   ],
   "source": [
    "%matplotlib inline\n",
    "from matplotlib import pyplot as plt\n",
    "import seaborn as sns\n",
    "\n",
    "# sns settings\n",
    "sns.set(rc={'figure.figsize':(13,9)})\n",
    "\n",
    "# colors\n",
    "palette = sns.hls_palette(20, l=.4, s=.9)\n",
    "\n",
    "# plot\n",
    "sns.scatterplot(X_embedded[:,0], X_embedded[:,1], hue=y_pred, legend='full', palette=palette)\n",
    "plt.title('t-SNE with Kmeans Labels')\n",
    "plt.savefig(\"improved_cluster_tsne.png\")\n",
    "plt.show()"
   ]
  },
  {
   "cell_type": "markdown",
   "metadata": {},
   "source": [
    "The labeled plot gives better insight into how the papers are grouped. Interestingly, both k-means and t-SNE can find independent clusters even though they were run independently. This shows that structure within the literature can be observed and measured to some extent. \n",
    "\n",
    "Now there are other cases where the colored labels are spread out on the plot. This is a result of t-SNE and k-means finding different connections in the higher dimensional data. The topics of these papers often intersect so it was hard to cleanly separate them. "
   ]
  },
  {
   "cell_type": "markdown",
   "metadata": {},
   "source": [
    "# Topic Modeling on Each Cluster\n",
    "\n",
    "Now we will attempt to find the most significant words in each cluster. K-means clustered the articles but did not label the topics. Through topic modeling, we will find out what the most important terms for each cluster are. This will add more meaning to the cluster by giving keywords to quickly identify the themes of the cluster.\n",
    "\n",
    "For topic modeling, we will use LDA (Latent Dirichlet Allocation). In LDA, each document can be described by a distribution of topics and each topic can be described by a distribution of words[.](https://towardsdatascience.com/light-on-math-machine-learning-intuitive-guide-to-latent-dirichlet-allocation-437c81220158)"
   ]
  },
  {
   "cell_type": "code",
   "execution_count": null,
   "metadata": {},
   "outputs": [],
   "source": [
    "from sklearn.decomposition import LatentDirichletAllocation\n",
    "from sklearn.feature_extraction.text import CountVectorizer"
   ]
  },
  {
   "cell_type": "code",
   "execution_count": null,
   "metadata": {},
   "outputs": [
    {
     "data": {
      "text/html": [
       "<img src=\"https://miro.medium.com/max/1276/0*Sj65xR38wDwuxhtr.jpg\" width=\"800\" height=\"800\"/>"
      ],
      "text/plain": [
       "<IPython.core.display.Image object>"
      ]
     },
     "execution_count": 82,
     "metadata": {},
     "output_type": "execute_result"
    }
   ],
   "source": [
    "from IPython.display import Image\n",
    "Image(url='https://miro.medium.com/max/1276/0*Sj65xR38wDwuxhtr.jpg', width=800, height=800)"
   ]
  },
  {
   "cell_type": "code",
   "execution_count": null,
   "metadata": {},
   "outputs": [],
   "source": [
    "vectorizers = []\n",
    "    \n",
    "for ii in range(0, 20):\n",
    "    # Creating a vectorizer\n",
    "    vectorizers.append(CountVectorizer(min_df=5, max_df=0.9, stop_words='english', lowercase=True, token_pattern='[a-zA-Z\\-][a-zA-Z\\-]{2,}'))"
   ]
  },
  {
   "cell_type": "code",
   "execution_count": null,
   "metadata": {},
   "outputs": [
    {
     "data": {
      "text/plain": [
       "CountVectorizer(max_df=0.9, min_df=5, stop_words='english',\n",
       "                token_pattern='[a-zA-Z\\\\-][a-zA-Z\\\\-]{2,}')"
      ]
     },
     "execution_count": 84,
     "metadata": {},
     "output_type": "execute_result"
    }
   ],
   "source": [
    "vectorizers[0]"
   ]
  },
  {
   "cell_type": "code",
   "execution_count": null,
   "metadata": {},
   "outputs": [],
   "source": [
    "vectorized_data = []\n",
    "\n",
    "for current_cluster, cvec in enumerate(vectorizers):\n",
    "    try:\n",
    "        vectorized_data.append(cvec.fit_transform(df.loc[df['y'] == current_cluster, 'processed_abstract']))\n",
    "    except Exception as e:\n",
    "        print(\"Not enough instances in cluster: \" + str(current_cluster))\n",
    "        vectorized_data.append(None)"
   ]
  },
  {
   "cell_type": "code",
   "execution_count": null,
   "metadata": {},
   "outputs": [
    {
     "data": {
      "text/plain": [
       "20"
      ]
     },
     "execution_count": 86,
     "metadata": {},
     "output_type": "execute_result"
    }
   ],
   "source": [
    "len(vectorized_data)"
   ]
  },
  {
   "cell_type": "markdown",
   "metadata": {},
   "source": [
    "Topic modeling will be performed through the use of Latent Dirichlet Allocation (LDA). This is a generative statistical model that allows sets of words to be explained by a shared topic"
   ]
  },
  {
   "cell_type": "code",
   "execution_count": null,
   "metadata": {},
   "outputs": [
    {
     "data": {
      "text/plain": [
       "LatentDirichletAllocation(learning_method='online', n_components=20,\n",
       "                          random_state=42, verbose=False)"
      ]
     },
     "execution_count": 87,
     "metadata": {},
     "output_type": "execute_result"
    }
   ],
   "source": [
    "# number of topics per cluster\n",
    "NUM_TOPICS_PER_CLUSTER = 20\n",
    "\n",
    "\n",
    "lda_models = []\n",
    "\n",
    "for ii in range(0, 20):\n",
    "    # Latent Dirichlet Allocation Model\n",
    "    lda = LatentDirichletAllocation(n_components=NUM_TOPICS_PER_CLUSTER, max_iter=10, learning_method='online',verbose=False, random_state=42)\n",
    "    lda_models.append(lda)\n",
    "    \n",
    "lda_models[0]"
   ]
  },
  {
   "cell_type": "markdown",
   "metadata": {},
   "source": [
    "For each cluster, we had created a corresponding LDA model in the previous step. We will now fit_transform all the LDA models on their respective cluster vectors"
   ]
  },
  {
   "cell_type": "code",
   "execution_count": null,
   "metadata": {},
   "outputs": [
    {
     "name": "stdout",
     "output_type": "stream",
     "text": [
      "Current Cluster: 0\n",
      "Current Cluster: 1\n",
      "Current Cluster: 2\n",
      "Current Cluster: 3\n",
      "Current Cluster: 4\n",
      "Current Cluster: 5\n",
      "Current Cluster: 6\n",
      "Current Cluster: 7\n",
      "Current Cluster: 8\n",
      "Current Cluster: 9\n",
      "Current Cluster: 10\n",
      "Current Cluster: 11\n",
      "Current Cluster: 12\n",
      "Current Cluster: 13\n",
      "Current Cluster: 14\n",
      "Current Cluster: 15\n",
      "Current Cluster: 16\n",
      "Current Cluster: 17\n",
      "Current Cluster: 18\n",
      "Current Cluster: 19\n"
     ]
    }
   ],
   "source": [
    "clusters_lda_data = []\n",
    "\n",
    "for current_cluster, lda in enumerate(lda_models):\n",
    "    print(\"Current Cluster: \" + str(current_cluster))\n",
    "    \n",
    "    if vectorized_data[current_cluster] != None:\n",
    "        clusters_lda_data.append((lda.fit_transform(vectorized_data[current_cluster])))"
   ]
  },
  {
   "cell_type": "markdown",
   "metadata": {},
   "source": [
    "Extracts the keywords from each cluster"
   ]
  },
  {
   "cell_type": "code",
   "execution_count": null,
   "metadata": {},
   "outputs": [],
   "source": [
    "# Functions for printing keywords for each topic\n",
    "def selected_topics(model, vectorizer, top_n=3):\n",
    "    current_words = []\n",
    "    keywords = []\n",
    "    \n",
    "    for idx, topic in enumerate(model.components_):\n",
    "        words = [(vectorizer.get_feature_names()[i], topic[i]) for i in topic.argsort()[:-top_n - 1:-1]]\n",
    "        for word in words:\n",
    "            if word[0] not in current_words:\n",
    "                keywords.append(word)\n",
    "                current_words.append(word[0])\n",
    "                \n",
    "    keywords.sort(key = lambda x: x[1])  \n",
    "    keywords.reverse()\n",
    "    return_values = []\n",
    "    for ii in keywords:\n",
    "        return_values.append(ii[0])\n",
    "    return return_values"
   ]
  },
  {
   "cell_type": "markdown",
   "metadata": {},
   "source": [
    "Append list of keywords for a single cluster to 2D list of length NUM_TOPICS_PER_CLUSTER"
   ]
  },
  {
   "cell_type": "code",
   "execution_count": null,
   "metadata": {},
   "outputs": [
    {
     "name": "stdout",
     "output_type": "stream",
     "text": [
      "Current Cluster: 0\n",
      "Current Cluster: 1\n",
      "Current Cluster: 2\n",
      "Current Cluster: 3\n",
      "Current Cluster: 4\n",
      "Current Cluster: 5\n",
      "Current Cluster: 6\n",
      "Current Cluster: 7\n",
      "Current Cluster: 8\n",
      "Current Cluster: 9\n",
      "Current Cluster: 10\n",
      "Current Cluster: 11\n",
      "Current Cluster: 12\n",
      "Current Cluster: 13\n",
      "Current Cluster: 14\n",
      "Current Cluster: 15\n",
      "Current Cluster: 16\n",
      "Current Cluster: 17\n",
      "Current Cluster: 18\n",
      "Current Cluster: 19\n"
     ]
    }
   ],
   "source": [
    "all_keywords = []\n",
    "for current_vectorizer, lda in enumerate(lda_models):\n",
    "    print(\"Current Cluster: \" + str(current_vectorizer))\n",
    "\n",
    "    if vectorized_data[current_vectorizer] != None:\n",
    "        all_keywords.append(selected_topics(lda, vectorizers[current_vectorizer]))"
   ]
  },
  {
   "cell_type": "code",
   "execution_count": null,
   "metadata": {},
   "outputs": [
    {
     "data": {
      "text/plain": [
       "['expression',\n",
       " 'live',\n",
       " 'gene',\n",
       " 'disease',\n",
       " 'cell',\n",
       " 'hcc',\n",
       " 'immune',\n",
       " 'increase',\n",
       " 'case',\n",
       " 'use']"
      ]
     },
     "execution_count": 91,
     "metadata": {},
     "output_type": "execute_result"
    }
   ],
   "source": [
    "all_keywords[0][:10]"
   ]
  },
  {
   "cell_type": "code",
   "execution_count": null,
   "metadata": {},
   "outputs": [
    {
     "data": {
      "text/plain": [
       "20"
      ]
     },
     "execution_count": 92,
     "metadata": {},
     "output_type": "execute_result"
    }
   ],
   "source": [
    "len(all_keywords)"
   ]
  },
  {
   "cell_type": "markdown",
   "metadata": {},
   "source": [
    "### Save current outputs to file\n",
    "\n",
    "Re-running some parts of the notebook (especially vectorization and t-SNE) are time-intensive tasks. We want to make sure that the important outputs for generating the bokeh plot are saved for future use."
   ]
  },
  {
   "cell_type": "code",
   "execution_count": null,
   "metadata": {},
   "outputs": [],
   "source": [
    "f=open('topics.txt','w')\n",
    "\n",
    "count = 0\n",
    "\n",
    "for ii in all_keywords:\n",
    "\n",
    "    if vectorized_data[count] != None:\n",
    "        f.write(', '.join(ii) + \"\\n\")\n",
    "    else:\n",
    "        f.write(\"Not enough instances to be determined. \\n\")\n",
    "        f.write(', '.join(ii) + \"\\n\")\n",
    "    count += 1\n",
    "\n",
    "f.close()"
   ]
  },
  {
   "cell_type": "code",
   "execution_count": null,
   "metadata": {},
   "outputs": [],
   "source": [
    "# import pickle\n",
    "\n",
    "# # save the COVID-19 DataFrame\n",
    "# pickle.dump(df, open(\"df_art.p\", \"wb\" ))\n",
    "\n",
    "# # save the final t-SNE\n",
    "# pickle.dump(X_embedded, open(\"X_embedded.p\", \"wb\" ))\n",
    "\n",
    "# # save the labels generate with k-means(20)\n",
    "# pickle.dump(y_pred, open(\"y_pred.p\", \"wb\" ))"
   ]
  }
 ],
 "metadata": {
  "interpreter": {
   "hash": "48a106b526281f8d61e52c005534097878361ede5ed679f5179f6f8217da0f38"
  },
  "kernelspec": {
   "display_name": "Python 3.8.8 ('base')",
   "language": "python",
   "name": "python3"
  },
  "language_info": {
   "codemirror_mode": {
    "name": "ipython",
    "version": 3
   },
   "file_extension": ".py",
   "mimetype": "text/x-python",
   "name": "python",
   "nbconvert_exporter": "python",
   "pygments_lexer": "ipython3",
   "version": "3.8.8"
  },
  "orig_nbformat": 4
 },
 "nbformat": 4,
 "nbformat_minor": 2
}
