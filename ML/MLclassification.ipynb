{
 "cells": [
  {
   "cell_type": "markdown",
   "metadata": {},
   "source": [
    "# import install"
   ]
  },
  {
   "cell_type": "markdown",
   "metadata": {},
   "source": [
    "A Fast, Extensible Progress Bar for Python\n",
    "https://github.com/tqdm/tqdm"
   ]
  },
  {
   "cell_type": "code",
   "execution_count": 8,
   "metadata": {},
   "outputs": [
    {
     "name": "stdout",
     "output_type": "stream",
     "text": [
      "Requirement already satisfied: tqdm in c:\\programdata\\anaconda3\\lib\\site-packages (4.62.3)\n",
      "Requirement already satisfied: colorama in c:\\programdata\\anaconda3\\lib\\site-packages (from tqdm) (0.4.4)\n"
     ]
    }
   ],
   "source": [
    "!pip install tqdm"
   ]
  },
  {
   "cell_type": "markdown",
   "metadata": {},
   "source": [
    "Industrial-Strength Natural Language Processing (NLP)\n",
    "https://spacy.io/"
   ]
  },
  {
   "cell_type": "code",
   "execution_count": null,
   "metadata": {},
   "outputs": [],
   "source": [
    "!pip install spacy==2.3.7"
   ]
  },
  {
   "cell_type": "code",
   "execution_count": null,
   "metadata": {},
   "outputs": [],
   "source": [
    " !pip install https://s3-us-west-2.amazonaws.com/ai2-s2-scispacy/releases/v0.2.4/en_core_sci_lg-0.2.4.tar.gz "
   ]
  },
  {
   "cell_type": "markdown",
   "metadata": {},
   "source": [
    "Language detection library\n",
    "ported from Google's language-detection.\n",
    "https://pypi.org/project/langdetect/"
   ]
  },
  {
   "cell_type": "code",
   "execution_count": null,
   "metadata": {},
   "outputs": [],
   "source": [
    " !pip install langdetect"
   ]
  },
  {
   "cell_type": "markdown",
   "metadata": {},
   "source": [
    "# Exploration"
   ]
  },
  {
   "cell_type": "code",
   "execution_count": 5,
   "metadata": {},
   "outputs": [],
   "source": [
    "import sys\n",
    "import tqdm\n",
    "sys.path.append('../Scraping/')\n",
    "# Own library\n",
    "import FilrougeMLIOLibrary as MLOI\n",
    "\n",
    "from matplotlib import pyplot as plt\n",
    "import pandas as pd"
   ]
  },
  {
   "cell_type": "markdown",
   "metadata": {},
   "source": [
    "# data loading"
   ]
  },
  {
   "cell_type": "code",
   "execution_count": 8,
   "metadata": {},
   "outputs": [],
   "source": [
    "import pickle\n",
    "\n",
    "# # save the  DataFrame\n",
    "fname = 'D:artdf.zip'\n",
    "df= pd.read_pickle(fname,compression='zip')\n"
   ]
  },
  {
   "cell_type": "code",
   "execution_count": 9,
   "metadata": {},
   "outputs": [
    {
     "data": {
      "text/plain": [
       "1        Full-length 5'RACE identifies all major HBV tr...\n",
       "2        RNR-R2 Upregulation by a Short Non-Coding Vira...\n",
       "3        Hepatitis B virus induces RNR-R2 expression vi...\n",
       "4          Mechanism of Hepatitis B Virus cccDNA Formation\n",
       "5        Improving Therapeutic Vaccination against Hepa...\n",
       "                               ...                        \n",
       "10627    Systematic discovery of regulatory motifs in c...\n",
       "10628    HBVcircle: A novel tool to investigate hepatit...\n",
       "10629    The CCCTC-binding factor (CTCF)-forkhead box p...\n",
       "10630    Predictive model for inflammation grades of ch...\n",
       "10631    A novel one-step quantitative reverse transcri...\n",
       "Name: Title, Length: 10399, dtype: object"
      ]
     },
     "execution_count": 9,
     "metadata": {},
     "output_type": "execute_result"
    }
   ],
   "source": [
    "df\n",
    "df['Title']"
   ]
  },
  {
   "cell_type": "code",
   "execution_count": 10,
   "metadata": {},
   "outputs": [
    {
     "data": {
      "text/html": [
       "<div>\n",
       "<style scoped>\n",
       "    .dataframe tbody tr th:only-of-type {\n",
       "        vertical-align: middle;\n",
       "    }\n",
       "\n",
       "    .dataframe tbody tr th {\n",
       "        vertical-align: top;\n",
       "    }\n",
       "\n",
       "    .dataframe thead th {\n",
       "        text-align: right;\n",
       "    }\n",
       "</style>\n",
       "<table border=\"1\" class=\"dataframe\">\n",
       "  <thead>\n",
       "    <tr style=\"text-align: right;\">\n",
       "      <th></th>\n",
       "      <th>index</th>\n",
       "      <th>Title</th>\n",
       "      <th>Abstract</th>\n",
       "      <th>Body</th>\n",
       "      <th>RefTo</th>\n",
       "      <th>Authors</th>\n",
       "      <th>RefBy</th>\n",
       "      <th>DatePub</th>\n",
       "      <th>url</th>\n",
       "      <th>LibName</th>\n",
       "      <th>PMID</th>\n",
       "      <th>PMCID</th>\n",
       "      <th>depth</th>\n",
       "      <th>processed_title</th>\n",
       "      <th>y</th>\n",
       "      <th>processed_Abstract</th>\n",
       "    </tr>\n",
       "  </thead>\n",
       "  <tbody>\n",
       "    <tr>\n",
       "      <th>1</th>\n",
       "      <td>doi:10.1016/j.jhep.2020.01.028.</td>\n",
       "      <td>Full-length 5'RACE identifies all major HBV tr...</td>\n",
       "      <td>Background &amp; aims:                    Covalent...</td>\n",
       "      <td></td>\n",
       "      <td>[]</td>\n",
       "      <td>{'Name': ['Bernd Stadelmayer', 'Audrey Diederi...</td>\n",
       "      <td>[[/32087349/, /34944466/, /34887634/, /3482993...</td>\n",
       "      <td>2020</td>\n",
       "      <td>/32087349/</td>\n",
       "      <td>PubMed</td>\n",
       "      <td>PMID:32087349</td>\n",
       "      <td></td>\n",
       "      <td>0.0</td>\n",
       "      <td>5'RACE Full-length major transcripts HBV-infec...</td>\n",
       "      <td>3</td>\n",
       "      <td>capped (rapid template chronically categories...</td>\n",
       "    </tr>\n",
       "    <tr>\n",
       "      <th>2</th>\n",
       "      <td>doi:10.3390/biom11121822.</td>\n",
       "      <td>RNR-R2 Upregulation by a Short Non-Coding Vira...</td>\n",
       "      <td>DNA viruses require dNTPs for replication and ...</td>\n",
       "      <td>Biomolecules. 2021 Dec; 11(12): 1822. Publishe...</td>\n",
       "      <td>[[/27764728/, /29144413/, /28855246/, /2677445...</td>\n",
       "      <td>{'Name': ['Karin Broennimann', 'Inna Ricardo-L...</td>\n",
       "      <td>[[/26026873/, /20155784/, /32169426/, /2238756...</td>\n",
       "      <td>2021</td>\n",
       "      <td>/34944466/</td>\n",
       "      <td>PubMed</td>\n",
       "      <td>PMID:34944466</td>\n",
       "      <td>PMCID:PMC8698843</td>\n",
       "      <td>1.0</td>\n",
       "      <td>Transcript RNR-R2 Short Non-Coding Viral Upreg...</td>\n",
       "      <td>3</td>\n",
       "      <td>125 isolation demonstrate active non-dividing ...</td>\n",
       "    </tr>\n",
       "    <tr>\n",
       "      <th>3</th>\n",
       "      <td>doi:10.1016/j.jhep.2015.05.017.</td>\n",
       "      <td>Hepatitis B virus induces RNR-R2 expression vi...</td>\n",
       "      <td>Background &amp; aims:                    Hepatiti...</td>\n",
       "      <td></td>\n",
       "      <td>[]</td>\n",
       "      <td>{'Name': ['Inna Ricardo-Lax', 'Vyas Ramanan', ...</td>\n",
       "      <td>[[/26026873/, /34944466/, /34452329/, /3425467...</td>\n",
       "      <td>2015</td>\n",
       "      <td>/26026873/</td>\n",
       "      <td>PubMed</td>\n",
       "      <td>PMID:26026873</td>\n",
       "      <td></td>\n",
       "      <td>2.0</td>\n",
       "      <td>Hepatitis B RNR-R2 DNA virus damage induces</td>\n",
       "      <td>3</td>\n",
       "      <td>demonstrate HBV R2 carriers. cellular cells i...</td>\n",
       "    </tr>\n",
       "    <tr>\n",
       "      <th>4</th>\n",
       "      <td>doi:10.3390/v13081463.</td>\n",
       "      <td>Mechanism of Hepatitis B Virus cccDNA Formation</td>\n",
       "      <td>Hepatitis B virus (HBV) remains a major medica...</td>\n",
       "      <td>Viruses. 2021 Aug; 13(8): 1463. Published onli...</td>\n",
       "      <td>[[/29877316/, /26231459/, /25833941/, /2616465...</td>\n",
       "      <td>{'Name': ['Lei Wei', 'Alexander Ploss', 'Lei W...</td>\n",
       "      <td>[[/34452329/, /34835264/, /34829806/]]</td>\n",
       "      <td>2021</td>\n",
       "      <td>/34452329/</td>\n",
       "      <td>PubMed</td>\n",
       "      <td>PMID:34452329</td>\n",
       "      <td>PMCID:PMC8402782</td>\n",
       "      <td>3.0</td>\n",
       "      <td>Hepatitis B Formation Mechanism Virus cccDNA</td>\n",
       "      <td>3</td>\n",
       "      <td>template picture chronically intricate covalen...</td>\n",
       "    </tr>\n",
       "    <tr>\n",
       "      <th>5</th>\n",
       "      <td>doi:10.3390/vaccines9111333.</td>\n",
       "      <td>Improving Therapeutic Vaccination against Hepa...</td>\n",
       "      <td>Chronic hepatitis B affects more than 250 mill...</td>\n",
       "      <td>Vaccines (Basel). 2021 Nov; 9(11): 1333. Publi...</td>\n",
       "      <td>[[/25934461/, /22362353/, /24412289/, /1247781...</td>\n",
       "      <td>{'Name': ['Percy A Knolle', 'Li-Rung Huang', '...</td>\n",
       "      <td>[[/34033323/, /22707082/, /30541859/, /2884746...</td>\n",
       "      <td>2021</td>\n",
       "      <td>/34835264/</td>\n",
       "      <td>PubMed</td>\n",
       "      <td>PMID:34835264</td>\n",
       "      <td>PMCID:PMC8623083</td>\n",
       "      <td>4.0</td>\n",
       "      <td>Hepatitis Models B-Insights B Therapy Therapeu...</td>\n",
       "      <td>3</td>\n",
       "      <td>understanding eliminate immune cirrhosis schem...</td>\n",
       "    </tr>\n",
       "    <tr>\n",
       "      <th>...</th>\n",
       "      <td>...</td>\n",
       "      <td>...</td>\n",
       "      <td>...</td>\n",
       "      <td>...</td>\n",
       "      <td>...</td>\n",
       "      <td>...</td>\n",
       "      <td>...</td>\n",
       "      <td>...</td>\n",
       "      <td>...</td>\n",
       "      <td>...</td>\n",
       "      <td>...</td>\n",
       "      <td>...</td>\n",
       "      <td>...</td>\n",
       "      <td>...</td>\n",
       "      <td>...</td>\n",
       "      <td>...</td>\n",
       "    </tr>\n",
       "    <tr>\n",
       "      <th>10627</th>\n",
       "      <td>doi:10.1073/pnas.0701811104.</td>\n",
       "      <td>Systematic discovery of regulatory motifs in c...</td>\n",
       "      <td>Conserved noncoding elements (CNEs) constitute...</td>\n",
       "      <td>Proc Natl Acad Sci U S A. 2007 Apr 24; 104(17)...</td>\n",
       "      <td>[]</td>\n",
       "      <td>{'Name': ['Xiaohui Xie', 'Tarjei S Mikkelsen',...</td>\n",
       "      <td>[[/17442748/, /34414474/, /34376301/, /3339796...</td>\n",
       "      <td>2007</td>\n",
       "      <td>/17442748/</td>\n",
       "      <td>PubMed</td>\n",
       "      <td>PMID:17442748</td>\n",
       "      <td>PMCID:PMC1852749</td>\n",
       "      <td>2.0</td>\n",
       "      <td>regulatory regions conserved Systematic discov...</td>\n",
       "      <td>0</td>\n",
       "      <td>16 domains nematode. demonstrate total suggest...</td>\n",
       "    </tr>\n",
       "    <tr>\n",
       "      <th>10628</th>\n",
       "      <td>doi:10.1016/j.jhep.2017.02.004.</td>\n",
       "      <td>HBVcircle: A novel tool to investigate hepatit...</td>\n",
       "      <td>Background &amp; aims:                    Hepatiti...</td>\n",
       "      <td></td>\n",
       "      <td>[]</td>\n",
       "      <td>{'Name': ['Zhipeng Yan', 'Jing Zeng', 'Youjun ...</td>\n",
       "      <td>[[/28213165/, /34777385/, /34345745/, /3433555...</td>\n",
       "      <td>2017</td>\n",
       "      <td>/28213165/</td>\n",
       "      <td>PubMed</td>\n",
       "      <td>PMID:28213165</td>\n",
       "      <td></td>\n",
       "      <td>2.0</td>\n",
       "      <td>closed novel B tool HBVcircle: DNA A virus inv...</td>\n",
       "      <td>3</td>\n",
       "      <td>persistence, template covalently HBV cells pe...</td>\n",
       "    </tr>\n",
       "    <tr>\n",
       "      <th>10629</th>\n",
       "      <td>doi:10.1002/path.4976.</td>\n",
       "      <td>The CCCTC-binding factor (CTCF)-forkhead box p...</td>\n",
       "      <td>CCCTC-binding factor (CTCF) is a DNA-binding p...</td>\n",
       "      <td>J Pathol. 2017 Dec; 243(4): 418–430. Published...</td>\n",
       "      <td>[[/21374666/, /19563753/, /17382889/, /1594171...</td>\n",
       "      <td>{'Name': ['Bin Zhang', 'Yajing Zhang', 'Xiaopi...</td>\n",
       "      <td>[[/28862757/, /35008373/, /34803457/, /3451374...</td>\n",
       "      <td>2017</td>\n",
       "      <td>/28862757/</td>\n",
       "      <td>PubMed</td>\n",
       "      <td>PMID:28862757</td>\n",
       "      <td>PMCID:PMC5725705</td>\n",
       "      <td>2.0</td>\n",
       "      <td>tumour carcinoma (CTCF)-forkhead growth factor...</td>\n",
       "      <td>2</td>\n",
       "      <td>FOXM1, Britain reversed Short repeat-binding f...</td>\n",
       "    </tr>\n",
       "    <tr>\n",
       "      <th>10630</th>\n",
       "      <td>doi:10.1111/liv.13427.</td>\n",
       "      <td>Predictive model for inflammation grades of ch...</td>\n",
       "      <td>Background:                    Liver biopsy is...</td>\n",
       "      <td></td>\n",
       "      <td>[]</td>\n",
       "      <td>{'Name': ['Weichen Zhou', 'Yanyun Ma', 'Jun Zh...</td>\n",
       "      <td>[[/28328162/, /34691257/, /34671614/, /3453972...</td>\n",
       "      <td>2017</td>\n",
       "      <td>/28328162/</td>\n",
       "      <td>PubMed</td>\n",
       "      <td>PMID:28328162</td>\n",
       "      <td></td>\n",
       "      <td>2.0</td>\n",
       "      <td>gene Large-scale hepatitis grades expressions ...</td>\n",
       "      <td>3</td>\n",
       "      <td>virus-infected Significant validate (AUC: mac...</td>\n",
       "    </tr>\n",
       "    <tr>\n",
       "      <th>10631</th>\n",
       "      <td>doi:10.1007/s00705-019-04372-0.</td>\n",
       "      <td>A novel one-step quantitative reverse transcri...</td>\n",
       "      <td>Current antiviral therapies against hepatitis ...</td>\n",
       "      <td></td>\n",
       "      <td>[]</td>\n",
       "      <td>{'Name': ['Ming Gao', 'Chengqian Feng', 'Ruosu...</td>\n",
       "      <td>[[/31428915/, /34316384/]]</td>\n",
       "      <td>2019</td>\n",
       "      <td>/31428915/</td>\n",
       "      <td>PubMed</td>\n",
       "      <td>PMID:31428915</td>\n",
       "      <td></td>\n",
       "      <td>2.5</td>\n",
       "      <td>selective mixture one-step transcription HBV h...</td>\n",
       "      <td>3</td>\n",
       "      <td>template degradation However, selective undete...</td>\n",
       "    </tr>\n",
       "  </tbody>\n",
       "</table>\n",
       "<p>10399 rows × 16 columns</p>\n",
       "</div>"
      ],
      "text/plain": [
       "                                 index  \\\n",
       "1      doi:10.1016/j.jhep.2020.01.028.   \n",
       "2            doi:10.3390/biom11121822.   \n",
       "3      doi:10.1016/j.jhep.2015.05.017.   \n",
       "4               doi:10.3390/v13081463.   \n",
       "5         doi:10.3390/vaccines9111333.   \n",
       "...                                ...   \n",
       "10627     doi:10.1073/pnas.0701811104.   \n",
       "10628  doi:10.1016/j.jhep.2017.02.004.   \n",
       "10629           doi:10.1002/path.4976.   \n",
       "10630           doi:10.1111/liv.13427.   \n",
       "10631  doi:10.1007/s00705-019-04372-0.   \n",
       "\n",
       "                                                   Title  \\\n",
       "1      Full-length 5'RACE identifies all major HBV tr...   \n",
       "2      RNR-R2 Upregulation by a Short Non-Coding Vira...   \n",
       "3      Hepatitis B virus induces RNR-R2 expression vi...   \n",
       "4        Mechanism of Hepatitis B Virus cccDNA Formation   \n",
       "5      Improving Therapeutic Vaccination against Hepa...   \n",
       "...                                                  ...   \n",
       "10627  Systematic discovery of regulatory motifs in c...   \n",
       "10628  HBVcircle: A novel tool to investigate hepatit...   \n",
       "10629  The CCCTC-binding factor (CTCF)-forkhead box p...   \n",
       "10630  Predictive model for inflammation grades of ch...   \n",
       "10631  A novel one-step quantitative reverse transcri...   \n",
       "\n",
       "                                                Abstract  \\\n",
       "1      Background & aims:                    Covalent...   \n",
       "2      DNA viruses require dNTPs for replication and ...   \n",
       "3      Background & aims:                    Hepatiti...   \n",
       "4      Hepatitis B virus (HBV) remains a major medica...   \n",
       "5      Chronic hepatitis B affects more than 250 mill...   \n",
       "...                                                  ...   \n",
       "10627  Conserved noncoding elements (CNEs) constitute...   \n",
       "10628  Background & aims:                    Hepatiti...   \n",
       "10629  CCCTC-binding factor (CTCF) is a DNA-binding p...   \n",
       "10630  Background:                    Liver biopsy is...   \n",
       "10631  Current antiviral therapies against hepatitis ...   \n",
       "\n",
       "                                                    Body  \\\n",
       "1                                                          \n",
       "2      Biomolecules. 2021 Dec; 11(12): 1822. Publishe...   \n",
       "3                                                          \n",
       "4      Viruses. 2021 Aug; 13(8): 1463. Published onli...   \n",
       "5      Vaccines (Basel). 2021 Nov; 9(11): 1333. Publi...   \n",
       "...                                                  ...   \n",
       "10627  Proc Natl Acad Sci U S A. 2007 Apr 24; 104(17)...   \n",
       "10628                                                      \n",
       "10629  J Pathol. 2017 Dec; 243(4): 418–430. Published...   \n",
       "10630                                                      \n",
       "10631                                                      \n",
       "\n",
       "                                                   RefTo  \\\n",
       "1                                                     []   \n",
       "2      [[/27764728/, /29144413/, /28855246/, /2677445...   \n",
       "3                                                     []   \n",
       "4      [[/29877316/, /26231459/, /25833941/, /2616465...   \n",
       "5      [[/25934461/, /22362353/, /24412289/, /1247781...   \n",
       "...                                                  ...   \n",
       "10627                                                 []   \n",
       "10628                                                 []   \n",
       "10629  [[/21374666/, /19563753/, /17382889/, /1594171...   \n",
       "10630                                                 []   \n",
       "10631                                                 []   \n",
       "\n",
       "                                                 Authors  \\\n",
       "1      {'Name': ['Bernd Stadelmayer', 'Audrey Diederi...   \n",
       "2      {'Name': ['Karin Broennimann', 'Inna Ricardo-L...   \n",
       "3      {'Name': ['Inna Ricardo-Lax', 'Vyas Ramanan', ...   \n",
       "4      {'Name': ['Lei Wei', 'Alexander Ploss', 'Lei W...   \n",
       "5      {'Name': ['Percy A Knolle', 'Li-Rung Huang', '...   \n",
       "...                                                  ...   \n",
       "10627  {'Name': ['Xiaohui Xie', 'Tarjei S Mikkelsen',...   \n",
       "10628  {'Name': ['Zhipeng Yan', 'Jing Zeng', 'Youjun ...   \n",
       "10629  {'Name': ['Bin Zhang', 'Yajing Zhang', 'Xiaopi...   \n",
       "10630  {'Name': ['Weichen Zhou', 'Yanyun Ma', 'Jun Zh...   \n",
       "10631  {'Name': ['Ming Gao', 'Chengqian Feng', 'Ruosu...   \n",
       "\n",
       "                                                   RefBy DatePub         url  \\\n",
       "1      [[/32087349/, /34944466/, /34887634/, /3482993...    2020  /32087349/   \n",
       "2      [[/26026873/, /20155784/, /32169426/, /2238756...    2021  /34944466/   \n",
       "3      [[/26026873/, /34944466/, /34452329/, /3425467...    2015  /26026873/   \n",
       "4                 [[/34452329/, /34835264/, /34829806/]]    2021  /34452329/   \n",
       "5      [[/34033323/, /22707082/, /30541859/, /2884746...    2021  /34835264/   \n",
       "...                                                  ...     ...         ...   \n",
       "10627  [[/17442748/, /34414474/, /34376301/, /3339796...    2007  /17442748/   \n",
       "10628  [[/28213165/, /34777385/, /34345745/, /3433555...    2017  /28213165/   \n",
       "10629  [[/28862757/, /35008373/, /34803457/, /3451374...    2017  /28862757/   \n",
       "10630  [[/28328162/, /34691257/, /34671614/, /3453972...    2017  /28328162/   \n",
       "10631                         [[/31428915/, /34316384/]]    2019  /31428915/   \n",
       "\n",
       "      LibName           PMID             PMCID  depth  \\\n",
       "1      PubMed  PMID:32087349                      0.0   \n",
       "2      PubMed  PMID:34944466  PMCID:PMC8698843    1.0   \n",
       "3      PubMed  PMID:26026873                      2.0   \n",
       "4      PubMed  PMID:34452329  PMCID:PMC8402782    3.0   \n",
       "5      PubMed  PMID:34835264  PMCID:PMC8623083    4.0   \n",
       "...       ...            ...               ...    ...   \n",
       "10627  PubMed  PMID:17442748  PMCID:PMC1852749    2.0   \n",
       "10628  PubMed  PMID:28213165                      2.0   \n",
       "10629  PubMed  PMID:28862757  PMCID:PMC5725705    2.0   \n",
       "10630  PubMed  PMID:28328162                      2.0   \n",
       "10631  PubMed  PMID:31428915                      2.5   \n",
       "\n",
       "                                         processed_title  y  \\\n",
       "1      5'RACE Full-length major transcripts HBV-infec...  3   \n",
       "2      Transcript RNR-R2 Short Non-Coding Viral Upreg...  3   \n",
       "3            Hepatitis B RNR-R2 DNA virus damage induces  3   \n",
       "4           Hepatitis B Formation Mechanism Virus cccDNA  3   \n",
       "5      Hepatitis Models B-Insights B Therapy Therapeu...  3   \n",
       "...                                                  ... ..   \n",
       "10627  regulatory regions conserved Systematic discov...  0   \n",
       "10628  closed novel B tool HBVcircle: DNA A virus inv...  3   \n",
       "10629  tumour carcinoma (CTCF)-forkhead growth factor...  2   \n",
       "10630  gene Large-scale hepatitis grades expressions ...  3   \n",
       "10631  selective mixture one-step transcription HBV h...  3   \n",
       "\n",
       "                                      processed_Abstract  \n",
       "1       capped (rapid template chronically categories...  \n",
       "2      125 isolation demonstrate active non-dividing ...  \n",
       "3       demonstrate HBV R2 carriers. cellular cells i...  \n",
       "4      template picture chronically intricate covalen...  \n",
       "5      understanding eliminate immune cirrhosis schem...  \n",
       "...                                                  ...  \n",
       "10627  16 domains nematode. demonstrate total suggest...  \n",
       "10628   persistence, template covalently HBV cells pe...  \n",
       "10629  FOXM1, Britain reversed Short repeat-binding f...  \n",
       "10630   virus-infected Significant validate (AUC: mac...  \n",
       "10631  template degradation However, selective undete...  \n",
       "\n",
       "[10399 rows x 16 columns]"
      ]
     },
     "execution_count": 10,
     "metadata": {},
     "output_type": "execute_result"
    }
   ],
   "source": [
    "df"
   ]
  },
  {
   "cell_type": "code",
   "execution_count": 13,
   "metadata": {},
   "outputs": [
    {
     "name": "stdout",
     "output_type": "stream",
     "text": [
      "<class 'pandas.core.frame.DataFrame'>\n",
      "Int64Index: 10399 entries, 1 to 10631\n",
      "Data columns (total 16 columns):\n",
      " #   Column              Non-Null Count  Dtype  \n",
      "---  ------              --------------  -----  \n",
      " 0   index               10399 non-null  object \n",
      " 1   Title               10399 non-null  object \n",
      " 2   Abstract            10399 non-null  object \n",
      " 3   Body                10399 non-null  object \n",
      " 4   RefTo               10399 non-null  object \n",
      " 5   Authors             10399 non-null  object \n",
      " 6   RefBy               10399 non-null  object \n",
      " 7   DatePub             10399 non-null  object \n",
      " 8   url                 10399 non-null  object \n",
      " 9   LibName             10399 non-null  object \n",
      " 10  PMID                10399 non-null  object \n",
      " 11  PMCID               10399 non-null  object \n",
      " 12  depth               10399 non-null  float64\n",
      " 13  processed_title     10399 non-null  object \n",
      " 14  y                   10399 non-null  int32  \n",
      " 15  processed_Abstract  10399 non-null  object \n",
      "dtypes: float64(1), int32(1), object(14)\n",
      "memory usage: 1.3+ MB\n"
     ]
    }
   ],
   "source": [
    "df.info()"
   ]
  },
  {
   "cell_type": "markdown",
   "metadata": {},
   "source": [
    "LABELING"
   ]
  },
  {
   "cell_type": "code",
   "execution_count": 17,
   "metadata": {},
   "outputs": [],
   "source": [
    "#Labelling\n",
    "def labelling(depth):\n",
    "    if int(depth) < 3:\n",
    "        return(1)\n",
    "    else:\n",
    "        return(2)\n",
    "\n",
    "df['label'] = df['depth'].apply(labelling)"
   ]
  },
  {
   "cell_type": "code",
   "execution_count": 46,
   "metadata": {},
   "outputs": [
    {
     "data": {
      "text/plain": [
       "6552"
      ]
     },
     "execution_count": 46,
     "metadata": {},
     "output_type": "execute_result"
    }
   ],
   "source": [
    "df['depth'][df['depth']==3].count()"
   ]
  },
  {
   "cell_type": "markdown",
   "metadata": {},
   "source": [
    "# Vectorization"
   ]
  },
  {
   "cell_type": "code",
   "execution_count": 27,
   "metadata": {},
   "outputs": [],
   "source": [
    "PCol = 'processed_title'"
   ]
  },
  {
   "cell_type": "code",
   "execution_count": 23,
   "metadata": {},
   "outputs": [],
   "source": [
    "from sklearn.feature_extraction.text import TfidfVectorizer\n",
    "\n",
    "def vectorize(text, maxx_features):\n",
    "    \n",
    "    vectorizer = TfidfVectorizer(max_features=maxx_features)\n",
    "    X = vectorizer.fit_transform(text)\n",
    "    return X"
   ]
  },
  {
   "cell_type": "code",
   "execution_count": 28,
   "metadata": {},
   "outputs": [
    {
     "name": "stdout",
     "output_type": "stream",
     "text": [
      "(10399, 4096)\n"
     ]
    }
   ],
   "source": [
    "text = df[PCol].values\n",
    "max_features = 2**12\n",
    "\n",
    "X = vectorize(text, max_features)\n",
    "print(X.shape)"
   ]
  },
  {
   "cell_type": "code",
   "execution_count": 32,
   "metadata": {},
   "outputs": [],
   "source": [
    "# Constitution échantillon train test\n",
    "from sklearn.model_selection import train_test_split\n",
    "X_train, X_test, y_train, y_test = train_test_split( X, df['label'], test_size=0.33, random_state=42, stratify=df['label'])"
   ]
  },
  {
   "cell_type": "code",
   "execution_count": 122,
   "metadata": {},
   "outputs": [],
   "source": [
    "dScore={}"
   ]
  },
  {
   "cell_type": "code",
   "execution_count": 152,
   "metadata": {},
   "outputs": [
    {
     "name": "stdout",
     "output_type": "stream",
     "text": [
      "Knn k 2 Erreur: 0.9478438228438228\n",
      "2 Number of mislabeled points out of a total 3432 points : 179\n",
      "Knn k 3 Erreur: 0.9568764568764568\n",
      "3 Number of mislabeled points out of a total 3432 points : 148\n",
      "Knn k 4 Erreur: 0.9571678321678322\n",
      "4 Number of mislabeled points out of a total 3432 points : 147\n",
      "Knn k 5 Erreur: 0.9583333333333334\n",
      "5 Number of mislabeled points out of a total 3432 points : 143\n",
      "Knn k 6 Erreur: 0.9586247086247086\n",
      "6 Number of mislabeled points out of a total 3432 points : 142\n",
      "Knn k 7 Erreur: 0.9594988344988346\n",
      "7 Number of mislabeled points out of a total 3432 points : 139\n",
      "Knn k 8 Erreur: 0.9597902097902098\n",
      "8 Number of mislabeled points out of a total 3432 points : 138\n",
      "Knn k 9 Erreur: 0.9592074592074592\n",
      "9 Number of mislabeled points out of a total 3432 points : 140\n",
      "Knn k 10 Erreur: 0.960081585081585\n",
      "10 Number of mislabeled points out of a total 3432 points : 137\n",
      "Knn k 11 Erreur: 0.9594988344988346\n",
      "11 Number of mislabeled points out of a total 3432 points : 139\n",
      "Knn k 12 Erreur: 0.9594988344988346\n",
      "12 Number of mislabeled points out of a total 3432 points : 139\n",
      "Knn k 13 Erreur: 0.9586247086247086\n",
      "13 Number of mislabeled points out of a total 3432 points : 142\n",
      "Knn k 14 Erreur: 0.9586247086247086\n",
      "14 Number of mislabeled points out of a total 3432 points : 142\n"
     ]
    },
    {
     "data": {
      "text/plain": [
       "{'SVM linear 95.921': {'2': 95.92074592074592, '3': 95.92074592074592},\n",
       " 'SVM poly 95.833': {'2': 95.83333333333334, '3': 95.83333333333334},\n",
       " 'SVM rbf 95.862': {'2': 95.86247086247086, '3': 95.86247086247086},\n",
       " 'SVM sigmoid 95.833': {'2': 95.83333333333334, '3': 95.83333333333334},\n",
       " 'KNN': {2: 94.78438228438229,\n",
       "  3: 95.68764568764568,\n",
       "  4: 95.71678321678321,\n",
       "  5: 95.83333333333334,\n",
       "  6: 95.86247086247086,\n",
       "  7: 95.94988344988346,\n",
       "  8: 95.97902097902097,\n",
       "  9: 95.92074592074592,\n",
       "  10: 96.0081585081585,\n",
       "  11: 95.94988344988346,\n",
       "  12: 95.94988344988346,\n",
       "  13: 95.86247086247086,\n",
       "  14: 95.86247086247086},\n",
       " 'LinearRegression ': {'2': -127.31804334193359, '3': -127.31804334193359},\n",
       " 'Naive Bayes Multinomial': {'2': 95.83333333333334, '3': 95.83333333333334},\n",
       " 'Logistic Regression': {'2': 95.71678321678321, '3': 95.71678321678321}}"
      ]
     },
     "execution_count": 152,
     "metadata": {},
     "output_type": "execute_result"
    }
   ],
   "source": [
    "#Plus proche voisin\n",
    "from sklearn.neighbors import KNeighborsClassifier\n",
    "sKNN = {}\n",
    "for k in range(2,15): # 3 choisi car guere moins performant que +\n",
    "    model=KNeighborsClassifier(n_neighbors=k)\n",
    "    model.fit(X_train,y_train)\n",
    "    prediction=model.predict(X_test)\n",
    "    error = model.score(X_test, y_test)\n",
    "    print('Knn k',k,'Erreur:',error)\n",
    "    print(k,\"Number of mislabeled points out of a total %d points : %d\"\n",
    "    % (X_test.shape[0], (y_test != prediction).sum())) \n",
    "    sKNN[k]=error*100\n",
    "dScore['KNN']=sKNN\n",
    "dScore"
   ]
  },
  {
   "cell_type": "code",
   "execution_count": 153,
   "metadata": {},
   "outputs": [
    {
     "data": {
      "image/png": "[encoded data removed]",
      "text/plain": [
       "<Figure size 640x480 with 1 Axes>"
      ]
     },
     "metadata": {},
     "output_type": "display_data"
    }
   ],
   "source": [
    "def plotModel(model,dScore):\n",
    "    if len(dScore[model].values())<0:\n",
    "        sym = '+'\n",
    "    else:\n",
    "        sym = 'o-'\n",
    "    ax.plot(dScore[model].keys(),dScore[model].values(),sym,label=model)\n",
    "\n",
    "plt.style.use('classic')\n",
    "fig, ax = plt.subplots()\n",
    "\n",
    "#ax = plt.subplots()\n",
    "for model in dScore:\n",
    "    plotModel(model,dScore)\n",
    "    leg = ax.legend(loc='lower right', frameon=False)\n",
    "plt.show()"
   ]
  },
  {
   "cell_type": "code",
   "execution_count": 132,
   "metadata": {},
   "outputs": [
    {
     "data": {
      "image/png": "[encoded data removed]",
      "text/plain": [
       "<Figure size 640x480 with 1 Axes>"
      ]
     },
     "metadata": {},
     "output_type": "display_data"
    }
   ],
   "source": [
    "def plotModel(model,dScore):\n",
    "    if len(dScore[model].values())<0:\n",
    "        sym = '+'\n",
    "    else:\n",
    "        sym = 'o-'\n",
    "    plt.xlim(0, 20)\n",
    "    plt.plot(dScore[model].keys(),dScore[model].values(),sym,label=model)\n",
    "    \n",
    "\n",
    "plt.style.use('classic')\n",
    "#fig, ax = plt.subplots()\n",
    "\n",
    "#ax = plt.subplots()\n",
    "for model in dScore:\n",
    "    plotModel(model,dScore)\n",
    "    leg = plt.legend(loc='lower right', frameon=False)\n",
    "plt.show()"
   ]
  },
  {
   "cell_type": "code",
   "execution_count": 59,
   "metadata": {},
   "outputs": [
    {
     "name": "stdout",
     "output_type": "stream",
     "text": [
      "0.9568764568764568\n"
     ]
    }
   ],
   "source": []
  },
  {
   "cell_type": "code",
   "execution_count": 36,
   "metadata": {},
   "outputs": [
    {
     "data": {
      "text/plain": [
       "8308    2\n",
       "6036    2\n",
       "6073    2\n",
       "8675    2\n",
       "5843    2\n",
       "       ..\n",
       "3263    2\n",
       "6877    2\n",
       "978     2\n",
       "1453    2\n",
       "3442    2\n",
       "Name: label, Length: 3432, dtype: int64"
      ]
     },
     "execution_count": 36,
     "metadata": {},
     "output_type": "execute_result"
    }
   ],
   "source": [
    "prediction\n",
    "y_test"
   ]
  },
  {
   "cell_type": "code",
   "execution_count": null,
   "metadata": {},
   "outputs": [],
   "source": []
  },
  {
   "cell_type": "code",
   "execution_count": 151,
   "metadata": {},
   "outputs": [
    {
     "name": "stdout",
     "output_type": "stream",
     "text": [
      "linearNumber of mislabeled points out of a total 3432 points : 140\n",
      "polyNumber of mislabeled points out of a total 3432 points : 143\n",
      "rbfNumber of mislabeled points out of a total 3432 points : 142\n",
      "sigmoidNumber of mislabeled points out of a total 3432 points : 143\n"
     ]
    },
    {
     "data": {
      "text/plain": [
       "{'SVM linear 95.921': {'2': 95.92074592074592, '3': 95.92074592074592},\n",
       " 'SVM poly 95.833': {'2': 95.83333333333334, '3': 95.83333333333334},\n",
       " 'SVM rbf 95.862': {'2': 95.86247086247086, '3': 95.86247086247086},\n",
       " 'SVM sigmoid 95.833': {'2': 95.83333333333334, '3': 95.83333333333334},\n",
       " 'KNN': {2: 94.78438228438229,\n",
       "  3: 95.68764568764568,\n",
       "  4: 95.71678321678321,\n",
       "  5: 95.83333333333334,\n",
       "  6: 95.86247086247086,\n",
       "  7: 95.94988344988346,\n",
       "  8: 95.97902097902097,\n",
       "  9: 95.92074592074592,\n",
       "  10: 96.0081585081585,\n",
       "  11: 95.94988344988346,\n",
       "  12: 95.94988344988346,\n",
       "  13: 95.86247086247086,\n",
       "  14: 95.86247086247086},\n",
       " 'LinearRegression ': {'2': -127.31804334193359, '3': -127.31804334193359},\n",
       " 'Naive Bayes Multinomial': {'2': 95.83333333333334, '3': 95.83333333333334},\n",
       " 'Logistic Regression': {'2': 95.71678321678321, '3': 95.71678321678321}}"
      ]
     },
     "execution_count": 151,
     "metadata": {},
     "output_type": "execute_result"
    }
   ],
   "source": [
    "#SVM\n",
    "kernels=['linear', 'poly', 'rbf', 'sigmoid']\n",
    "from sklearn import svm\n",
    "sSVM = {}\n",
    "for kernel in kernels:\n",
    "    #Create a svm Classifier\n",
    "    model = svm.SVC(kernel=kernel) \n",
    "\n",
    "    #Train the model using the training sets\n",
    "    model.fit(X_train, y_train)\n",
    "\n",
    "    #Predict the response for test dataset\n",
    "    prediction=model.predict(X_test)\n",
    "    error = model.score(X_test, y_test)*100\n",
    "    \n",
    "    dScore['SVM'+' '+kernel+' '+f'{error :2.3f}']= {'2':error,'3':error}\n",
    "    print(kernel+\"Number of mislabeled points out of a total %d points : %d\"\n",
    "    % (X_test.shape[0], (y_test != prediction).sum())) \n",
    "dScore"
   ]
  },
  {
   "cell_type": "markdown",
   "metadata": {},
   "source": [
    "Regression Linéaire"
   ]
  },
  {
   "cell_type": "code",
   "execution_count": 150,
   "metadata": {},
   "outputs": [
    {
     "name": "stdout",
     "output_type": "stream",
     "text": [
      "LN -127.31804334193359\n",
      "Number of mislabeled points out of a total 3432 points : 3432\n"
     ]
    }
   ],
   "source": [
    "#LR\n",
    "from sklearn.linear_model import LinearRegression\n",
    "#Create a Classifier\n",
    "model = LinearRegression() \n",
    "\n",
    "#Train the model using the training sets\n",
    "model.fit(X_train, y_train)\n",
    "\n",
    "#Predict the response for test dataset\n",
    "prediction=model.predict(X_test)\n",
    "error = model.score(X_test, y_test)*100\n",
    "print('LN',error)\n",
    "    \n",
    "dScore['LinearRegression ']= {'2':error,'3':error}\n",
    "print(\"Number of mislabeled points out of a total %d points : %d\"\n",
    "    % (X_test.shape[0], (y_test != prediction).sum())) \n",
    "#dScore"
   ]
  },
  {
   "cell_type": "code",
   "execution_count": 148,
   "metadata": {},
   "outputs": [
    {
     "name": "stdout",
     "output_type": "stream",
     "text": [
      "Naive Bayes Multinomial 95.83333333333334\n",
      "Number of mislabeled points out of a total 3432 points : 143\n"
     ]
    }
   ],
   "source": [
    "#Naive Bayes Multinomial\n",
    "from sklearn.naive_bayes import MultinomialNB\n",
    "#Create a Classifier\n",
    "model = MultinomialNB() \n",
    "\n",
    "#Train the model using the training sets\n",
    "model.fit(X_train, y_train)\n",
    "\n",
    "#Predict the response for test dataset\n",
    "prediction=model.predict(X_test)\n",
    "error = model.score(X_test, y_test)*100\n",
    "print('Naive Bayes Multinomial',error)\n",
    "print(\"Number of mislabeled points out of a total %d points : %d\"\n",
    "    % (X_test.shape[0], (y_test != prediction).sum()))   \n",
    "dScore['Naive Bayes Multinomial']= {'2':error,'3':error}"
   ]
  },
  {
   "cell_type": "markdown",
   "metadata": {},
   "source": [
    "# Régression logistique et Naive Bayes\n"
   ]
  },
  {
   "cell_type": "code",
   "execution_count": 149,
   "metadata": {},
   "outputs": [
    {
     "name": "stdout",
     "output_type": "stream",
     "text": [
      "Logistic Regression 95.71678321678321\n",
      "Number of mislabeled points out of a total 3432 points : 147\n"
     ]
    }
   ],
   "source": [
    "#Log Reg\n",
    "from sklearn.linear_model import LogisticRegression\n",
    "#Create a Classifier\n",
    "model = LogisticRegression(random_state=0) \n",
    "\n",
    "#Train the model using the training sets\n",
    "model.fit(X_train, y_train)\n",
    "\n",
    "#Predict the response for test dataset\n",
    "prediction=model.predict(X_test)\n",
    "error = model.score(X_test, y_test)*100\n",
    "print('Logistic Regression',error)\n",
    "print(\"Number of mislabeled points out of a total %d points : %d\"\n",
    "    % (X_test.shape[0], (y_test != prediction).sum()))   \n",
    "dScore['Logistic Regression']= {'2':error,'3':error}"
   ]
  },
  {
   "cell_type": "code",
   "execution_count": 233,
   "metadata": {},
   "outputs": [
    {
     "name": "stdout",
     "output_type": "stream",
     "text": [
      "D:artdf.zip\n"
     ]
    }
   ],
   "source": [
    "import pickle\n",
    "\n",
    "# # save the  DataFrame\n",
    "fname = 'D:artdf.zip'\n",
    "print(fname)\n",
    "df.to_pickle(path=fname,compression='zip')\n"
   ]
  }
 ],
 "metadata": {
  "interpreter": {
   "hash": "48a106b526281f8d61e52c005534097878361ede5ed679f5179f6f8217da0f38"
  },
  "kernelspec": {
   "display_name": "Python 3.8.8 ('base')",
   "language": "python",
   "name": "python3"
  },
  "language_info": {
   "codemirror_mode": {
    "name": "ipython",
    "version": 3
   },
   "file_extension": ".py",
   "mimetype": "text/x-python",
   "name": "python",
   "nbconvert_exporter": "python",
   "pygments_lexer": "ipython3",
   "version": "3.9.7"
  },
  "orig_nbformat": 4
 },
 "nbformat": 4,
 "nbformat_minor": 2
}
