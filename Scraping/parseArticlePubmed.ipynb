{
 "cells": [
  {
   "cell_type": "code",
   "execution_count": 1,
   "metadata": {},
   "outputs": [],
   "source": [
    "import requests\n",
    "from bs4 import BeautifulSoup as bs\n",
    "import re"
   ]
  },
  {
   "cell_type": "code",
   "execution_count": 2,
   "metadata": {},
   "outputs": [
    {
     "name": "stdout",
     "output_type": "stream",
     "text": [
      "Status code: 200\n"
     ]
    }
   ],
   "source": [
    "# Get_Beautifulsoup\n",
    "PMID = \"30135580\"\n",
    "URL = f\"https://pubmed.ncbi.nlm.nih.gov/{PMID}/\"\n",
    "\n",
    "r = requests.get(URL)\n",
    "print(f\"Status code: {r.status_code}\")\n",
    "html_pubmed = bs(r.text, 'html.parser')\n"
   ]
  },
  {
   "cell_type": "code",
   "execution_count": 3,
   "metadata": {},
   "outputs": [
    {
     "name": "stdout",
     "output_type": "stream",
     "text": [
      "{'year_of_publication': 2018}\n"
     ]
    }
   ],
   "source": [
    "# Get_year_of_pub\n",
    "year = int(html_pubmed.find('div', {'class': \"article-source\"}).find('span', {'class': \"cit\"}).text.split(' ', 1)[0])\n",
    "year_dict = {'year_of_publication': year}\n",
    "print(year_dict)"
   ]
  },
  {
   "cell_type": "code",
   "execution_count": 4,
   "metadata": {},
   "outputs": [
    {
     "name": "stdout",
     "output_type": "stream",
     "text": [
      "{'PMCID': 'PMC6245578'}\n"
     ]
    }
   ],
   "source": [
    "# Get_PMCID\n",
    "try:\n",
    "    PMCID = html_pubmed.find('span', {'class': \"identifier pmc\"}).a.text.strip()\n",
    "except AttributeError:\n",
    "    print(\"No PMCID\")\n",
    "else:\n",
    "    PMCID_dict = {'PMCID': PMCID}\n",
    "print(PMCID_dict)"
   ]
  },
  {
   "cell_type": "code",
   "execution_count": 5,
   "metadata": {},
   "outputs": [
    {
     "name": "stdout",
     "output_type": "stream",
     "text": [
      "{'DOI': '10.1038/s41586-018-0442-2'}\n"
     ]
    }
   ],
   "source": [
    "# Get_DOI\n",
    "DOI = html_pubmed.find('span', {'class': \"identifier doi\"}).a.text.strip()\n",
    "DOI_dict ={'DOI': DOI}\n",
    "print(DOI_dict)"
   ]
  },
  {
   "cell_type": "code",
   "execution_count": 6,
   "metadata": {},
   "outputs": [
    {
     "name": "stdout",
     "output_type": "stream",
     "text": [
      "{'PMID': '30135580'}\n"
     ]
    }
   ],
   "source": [
    "# Get_PMID\n",
    "PMID = html_pubmed.find('strong', {'class': \"current-id\"}).text.strip()\n",
    "PMID_dict ={'PMID': PMID}\n",
    "print(PMID_dict)"
   ]
  },
  {
   "cell_type": "code",
   "execution_count": 7,
   "metadata": {},
   "outputs": [
    {
     "name": "stdout",
     "output_type": "stream",
     "text": [
      "{'title': 'Structure of paused transcription complex Pol II-DSIF-NELF'}\n"
     ]
    }
   ],
   "source": [
    "# Get_title\n",
    "title = html_pubmed.h1.text.strip()\n",
    "title_dict = {'title': title}\n",
    "print(title_dict)\n"
   ]
  },
  {
   "cell_type": "code",
   "execution_count": 8,
   "metadata": {},
   "outputs": [
    {
     "name": "stdout",
     "output_type": "stream",
     "text": [
      "{'Seychelle M Vos': 'Max Planck Institute for Biophysical Chemistry, Department of Molecular Biology, Göttingen, Germany.', 'Lucas Farnung': 'Max Planck Institute for Biophysical Chemistry, Department of Molecular Biology, Göttingen, Germany.', 'Henning Urlaub': 'Max Planck Institute for Biophysical Chemistry, Bioanalytical Mass Spectrometry, Göttingen, Germany.', 'Patrick Cramer': 'Max Planck Institute for Biophysical Chemistry, Department of Molecular Biology, Göttingen, Germany. patrick.cramer@mpibpc.mpg.de.'}\n"
     ]
    }
   ],
   "source": [
    "# Get_authors_and_affiliations\n",
    "auteurs = []\n",
    "affiliations = []\n",
    "authors = html_pubmed.find_all('span', {'class': \"authors-list-item\"})\n",
    "for author in authors:\n",
    "    try:\n",
    "        aut = author.find('a', {'class': \"full-name\"})['data-ga-label']\n",
    "        auteurs.append(aut)\n",
    "        affil = author.find('a', {'class': \"affiliation-link\"})['title']\n",
    "        affiliations.append(affil)\n",
    "    except TypeError:\n",
    "        continue\n",
    "\n",
    "authors_affiliation_dict = dict(zip(auteurs, affiliations))\n",
    "print(authors_affiliation_dict)\n",
    "\n"
   ]
  },
  {
   "cell_type": "code",
   "execution_count": 9,
   "metadata": {},
   "outputs": [
    {
     "name": "stdout",
     "output_type": "stream",
     "text": [
      "{'abstract': \"Metazoan gene regulation often involves the pausing of RNA polymerase II (Pol II) in the promoter-proximal region. Paused Pol II is stabilized by the protein complexes DRB sensitivity-inducing factor (DSIF) and negative elongation factor (NELF). Here we report the cryo-electron microscopy structure of a paused transcription elongation complex containing Sus scrofa Pol II and Homo sapiens DSIF and NELF at 3.2 Å resolution. The structure reveals a tilted DNA-RNA hybrid that impairs binding of the nucleoside triphosphate substrate. NELF binds the polymerase funnel, bridges two mobile polymerase modules, and contacts the trigger loop, thereby restraining Pol II mobility that is required for pause release. NELF prevents binding of the anti-pausing transcription elongation factor IIS (TFIIS). Additionally, NELF possesses two flexible 'tentacles' that can contact DSIF and exiting RNA. These results define the paused state of Pol II and provide the molecular basis for understanding the function of NELF during promoter-proximal gene regulation.\"}\n"
     ]
    }
   ],
   "source": [
    "# Get_Abstract\n",
    "abstract = html_pubmed.find('div', {'class': \"abstract-content selected\"}).text.strip().replace('\\n', '')\n",
    "abstract_dict = {'abstract': abstract}\n",
    "print(abstract_dict)\n"
   ]
  },
  {
   "cell_type": "code",
   "execution_count": 10,
   "metadata": {},
   "outputs": [
    {
     "name": "stdout",
     "output_type": "stream",
     "text": [
      "Status code: 200\n",
      "['12676794', '12676794', '3520340', '3520340', '2825027', '2825027', '3099167', '3099167', '1505520', '1505520', '9450929', '9450929', '10199401', '10199401', '12612062', '12612062', '7759473', '7759473', '9491887', '9491887', '14701750', '14701750', '16427012', '16427012', '8900211', '8900211', '20434984', '20434984', '25773599', '25773599', '19820169', '19820169', '12782658', '12782658', '22982352', '22982352', '28892040', '28892040', '28775211', '28775211', '27282391', '27282391', '16898873', '16898873', '9651586', '9651586', '24789973', '24789973', '21346759', '21346759', '22056778', '22056778', '29499135', '29499135', '29499136', '29499136', '11313498', '11313498', '10499798', '10499798', '12914699', '12914699', '17129781', '17129781', '17581590', '17581590', '27193681', '27193681', '11940650', '11940650', '24453987', '24453987', '28994650', '28994650', '20534440', '20534440', '17073751', '17073751', '1379232', '1379232', '15629721', '15629721', '20007866', '20007866', '16214896', '16214896', '27193682', '27193682', '22124324', '22124324', '25976475', '25976475', '19416863', '19416863', '15276834', '15276834', '17548348', '17548348', '30135578', '30135578', '28668116', '28668116', '16769904', '16769904', '22930834', '22930834', '29168508', '29168508', '10692458', '10692458', '14712704', '14712704', '27845625', '27845625', '23000701', '23000701', '15264254', '15264254', '14568533', '14568533', '28580911', '28580911', '20383002', '20383002', '16282592', '16282592', '18462672', '18462672', '15768403', '15768403', '23748958', '23748958', '15215442', '15215442', '20457744', '20457744', '23297231', '23297231', '11491282', '11491282', '20057044', '20057044', '22772728', '22772728', '25648531', '25648531', '25661704', '25661704', '23329690', '23329690', '19151095', '19151095']\n"
     ]
    }
   ],
   "source": [
    "# Get_references_as_PMID\n",
    "\n",
    "def not_PMC(href):\n",
    "    return href and not re.compile(\"pmc\").search(href)\n",
    "\n",
    "\n",
    "URL_ref_pubmed = f\"https://pubmed.ncbi.nlm.nih.gov/{PMID_dict['PMID']}/references/\"\n",
    "r = requests.get(URL_ref_pubmed)\n",
    "print(f\"Status code: {r.status_code}\")\n",
    "\n",
    "references_all = bs(r.text, 'html.parser')\n",
    "references_incr = references_all.find_all('li')\n",
    "\n",
    "cited_in_ref = []\n",
    "for ref in references_incr:\n",
    "    only_pub = ref.find(href=not_PMC)['href'].strip('/')\n",
    "    if len(only_pub) > 0:\n",
    "        cited_in_ref.append(only_pub)\n",
    "print(cited_in_ref)\n",
    "  "
   ]
  },
  {
   "cell_type": "code",
   "execution_count": 16,
   "metadata": {},
   "outputs": [
    {
     "name": "stdout",
     "output_type": "stream",
     "text": [
      "Status code: 200\n"
     ]
    }
   ],
   "source": [
    "# GetHTML_Pubmed_Citedby\n",
    "\n",
    "URL = \"https://pubmed.ncbi.nlm.nih.gov/?linkname=pubmed_pubmed_citedin&from_uid=\" + f\"{PMID}\"\n",
    "\n",
    "r = requests.get(URL)\n",
    "print(f\"Status code: {r.status_code}\")\n",
    "citedby = bs(r.text, 'html.parser')"
   ]
  },
  {
   "cell_type": "code",
   "execution_count": 96,
   "metadata": {},
   "outputs": [
    {
     "name": "stdout",
     "output_type": "stream",
     "text": [
      "Status code: 200\n",
      "Status code: 200\n",
      "Status code: 200\n",
      "Status code: 200\n",
      "Status code: 200\n",
      "Status code: 200\n",
      "{'cited_by_DOI': ['10.1186/s12964-021-00776-1', '10.1126/sciadv.abh1684', '10.1126/sciadv.abb2947', '10.1016/j.devcel.2021.02.025', '10.1016/j.molcel.2020.12.002', '10.1016/j.ceb.2020.11.003', '10.15252/embj.2020105564', '10.1093/nar/gkaa1208', '10.1371/journal.ppat.1009055', '10.1038/d41586-018-05971-8', '10.1038/s41586-018-0440-4', '10.1073/pnas.1000681107', '10.1093/nar/gkw571', '10.1016/j.bbagrm.2012.11.007', '10.1146/annurev-genet-110711-155440', '10.1016/j.molcel.2021.12.020', '10.1098/rsob.210220', '10.1038/s41596-021-00640-z', '10.1038/s41467-021-26935-z', '10.1038/s41568-021-00411-8', '10.1038/d41586-018-05971-8', '10.1038/s41586-018-0440-4', '10.1073/pnas.1000681107', '10.1093/nar/gkw571', '10.1016/j.bbagrm.2012.11.007', '10.1146/annurev-genet-110711-155440', '10.1016/j.molcel.2021.12.020', '10.1098/rsob.210220', '10.1038/s41596-021-00640-z', '10.1038/s41467-021-26935-z', '10.1038/s41568-021-00411-8', '10.1038/d41586-018-05971-8', '10.1038/s41586-018-0440-4', '10.1073/pnas.1000681107', '10.1093/nar/gkw571', '10.1016/j.bbagrm.2012.11.007', '10.1146/annurev-genet-110711-155440', '10.1016/j.molcel.2021.12.020', '10.1098/rsob.210220', '10.1038/s41596-021-00640-z', '10.1038/s41467-021-26935-z', '10.1038/s41568-021-00411-8', '10.1038/d41586-018-05971-8', '10.1038/s41586-018-0440-4', '10.1073/pnas.1000681107', '10.1093/nar/gkw571', '10.1016/j.bbagrm.2012.11.007', '10.1146/annurev-genet-110711-155440', '10.1016/j.molcel.2021.12.020', '10.1098/rsob.210220', '10.1038/s41596-021-00640-z', '10.1038/s41467-021-26935-z', '10.1038/s41568-021-00411-8', '10.1038/d41586-018-05971-8', '10.1038/s41586-018-0440-4', '10.1073/pnas.1000681107', '10.1093/nar/gkw571', '10.1016/j.bbagrm.2012.11.007', '10.1146/annurev-genet-110711-155440', '10.1016/j.molcel.2021.12.020', '10.1098/rsob.210220', '10.1038/s41596-021-00640-z', '10.1038/s41467-021-26935-z', '10.1038/s41568-021-00411-8', '10.1038/d41586-018-05971-8', '10.1038/s41586-018-0440-4', '10.1073/pnas.1000681107', '10.1093/nar/gkw571', '10.1016/j.bbagrm.2012.11.007', '10.1146/annurev-genet-110711-155440', '10.1016/j.molcel.2021.12.020', '10.1098/rsob.210220', '10.1038/s41596-021-00640-z', '10.1038/s41467-021-26935-z', '10.1038/s41568-021-00411-8']}\n"
     ]
    }
   ],
   "source": [
    "# GetNumberPages\n",
    "ref_citing =[]\n",
    "try:\n",
    "    number_total_pages = int(citedby.find('label', {'class': \"of-total-pages\"}).text.split(' ')[1])\n",
    "except AttributeError:\n",
    "    print(\"Not cited\")\n",
    "else:\n",
    "    # Get RefCytedBy\n",
    "    \n",
    "    ref_page_1 = citedby.find_all('span', {'class': \"docsum-journal-citation full-journal-citation\"})\n",
    "    \n",
    "    for doi in ref_page_1:\n",
    "        ref_doi = doi.text.split('doi:')[1].lstrip(' ')\n",
    "        if len(ref_doi.split(' ')) > 1:\n",
    "            ref_citing.append(ref_doi.split(' ')[0].rstrip('.'))\n",
    "        else:\n",
    "            ref_citing.append(ref_doi.rstrip('.'))\n",
    "\n",
    "\n",
    "if number_total_pages > 1:\n",
    "    for i in range(2, (number_total_pages +1)):\n",
    "        URL_suite = f\"{URL}&page={i}\"\n",
    "        \n",
    "        r = requests.get(URL_suite)\n",
    "        print(f\"Status code: {r.status_code}\")\n",
    "        citedby_suite = bs(r.text, 'html.parser')\n",
    "            \n",
    "        ref_pages_suite = citedby_suite.find_all('span', {'class': \"docsum-journal-citation full-journal-citation\"})\n",
    "        for doi in ref_pages_suite:\n",
    "            ref_doi = doi.text.split('doi:')[1].lstrip(' ')\n",
    "            if len(ref_doi.split(' ')) > 1:\n",
    "                ref_citing.append(ref_doi.split(' ')[0].rstrip('.'))\n",
    "            else:\n",
    "                ref_citing.append(ref_doi.rstrip('.'))\n",
    "del ref_citing[0]\n",
    "references_citedby_dict_DOI = {'cited_by_DOI': ref_citing}\n",
    "print(references_citedby_dict_DOI)"
   ]
  }
 ],
 "metadata": {
  "interpreter": {
   "hash": "206e0edb666d803bbbd47ec97400eb388f4dce468438ef11cfe8e95400420f2d"
  },
  "kernelspec": {
   "display_name": "Python 3.9.7 ('base')",
   "language": "python",
   "name": "python3"
  },
  "language_info": {
   "codemirror_mode": {
    "name": "ipython",
    "version": 3
   },
   "file_extension": ".py",
   "mimetype": "text/x-python",
   "name": "python",
   "nbconvert_exporter": "python",
   "pygments_lexer": "ipython3",
   "version": "3.9.7"
  },
  "orig_nbformat": 4
 },
 "nbformat": 4,
 "nbformat_minor": 2
}
