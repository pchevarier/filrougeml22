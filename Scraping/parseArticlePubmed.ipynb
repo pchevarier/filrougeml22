{
 "cells": [
  {
   "cell_type": "code",
   "execution_count": 56,
   "metadata": {},
   "outputs": [],
   "source": [
    "import requests\n",
    "from bs4 import BeautifulSoup as bs\n",
    "import re"
   ]
  },
  {
   "cell_type": "code",
   "execution_count": 57,
   "metadata": {},
   "outputs": [
    {
     "name": "stdout",
     "output_type": "stream",
     "text": [
      "Status code: 200\n"
     ]
    }
   ],
   "source": [
    "# Get_Beautifulsoup\n",
    "PMID = \"17942706 \"\n",
    "URL = f\"https://pubmed.ncbi.nlm.nih.gov/{PMID}/\"\n",
    "\n",
    "r = requests.get(URL)\n",
    "print(f\"Status code: {r.status_code}\")\n",
    "html_pubmed = bs(r.text, 'html.parser')\n"
   ]
  },
  {
   "cell_type": "code",
   "execution_count": 58,
   "metadata": {},
   "outputs": [
    {
     "name": "stdout",
     "output_type": "stream",
     "text": [
      "{'year_of_publication': 2007}\n"
     ]
    }
   ],
   "source": [
    "# Get_year_of_pub\n",
    "year = int(html_pubmed.find('div', {'class': \"article-source\"}).find('span', {'class': \"cit\"}).text.split(' ', 1)[0])\n",
    "year_dict = {'year_of_publication': year}\n",
    "print(year_dict)"
   ]
  },
  {
   "cell_type": "code",
   "execution_count": 59,
   "metadata": {},
   "outputs": [
    {
     "name": "stdout",
     "output_type": "stream",
     "text": [
      "{'PMCID': 'PMC2045134'}\n"
     ]
    }
   ],
   "source": [
    "# Get_PMCID\n",
    "try:\n",
    "    PMCID = html_pubmed.find('span', {'class': \"identifier pmc\"}).a.text.strip()\n",
    "except AttributeError:\n",
    "    print(\"No PMCID\")\n",
    "else:\n",
    "    PMCID_dict = {'PMCID': PMCID}\n",
    "print(PMCID_dict)"
   ]
  },
  {
   "cell_type": "code",
   "execution_count": 60,
   "metadata": {},
   "outputs": [
    {
     "name": "stdout",
     "output_type": "stream",
     "text": [
      "{'DOI': '10.1101/gad.1604007'}\n"
     ]
    }
   ],
   "source": [
    "# Get_DOI\n",
    "DOI = html_pubmed.find('span', {'class': \"identifier doi\"}).a.text.strip()\n",
    "DOI_dict ={'DOI': DOI}\n",
    "print(DOI_dict)"
   ]
  },
  {
   "cell_type": "code",
   "execution_count": 61,
   "metadata": {},
   "outputs": [
    {
     "name": "stdout",
     "output_type": "stream",
     "text": [
      "{'PMID': '17942706'}\n"
     ]
    }
   ],
   "source": [
    "# Get_PMID\n",
    "PMID = html_pubmed.find('strong', {'class': \"current-id\"}).text.strip()\n",
    "PMID_dict ={'PMID': PMID}\n",
    "print(PMID_dict)"
   ]
  },
  {
   "cell_type": "code",
   "execution_count": 62,
   "metadata": {},
   "outputs": [
    {
     "name": "stdout",
     "output_type": "stream",
     "text": [
      "{'title': 'Phosphorylation of histone H3 at Ser10 facilitates RNA polymerase II release from promoter-proximal pausing in Drosophila'}\n"
     ]
    }
   ],
   "source": [
    "# Get_title\n",
    "title = html_pubmed.h1.text.strip()\n",
    "title_dict = {'title': title}\n",
    "print(title_dict)\n"
   ]
  },
  {
   "cell_type": "code",
   "execution_count": 63,
   "metadata": {},
   "outputs": [
    {
     "name": "stdout",
     "output_type": "stream",
     "text": [
      "{'Bernd Stadelmayer': 'INSERM U1052, CNRS UMR-5286, Cancer Research Center of Lyon (CRCL), Lyon, 69008, France; University of Lyon, Université Claude-Bernard (UCBL), 69008 Lyon, France. Electronic address: bernd.stadelmayer@inserm.fr.', 'Audrey Diederichs': 'INSERM U1052, CNRS UMR-5286, Cancer Research Center of Lyon (CRCL), Lyon, 69008, France; University of Lyon, Université Claude-Bernard (UCBL), 69008 Lyon, France.', 'Fleur Chapus': 'INSERM U1052, CNRS UMR-5286, Cancer Research Center of Lyon (CRCL), Lyon, 69008, France; University of Lyon, Université Claude-Bernard (UCBL), 69008 Lyon, France.', 'Michel Rivoire': 'INSERM U1032, Centre Léon Bérard (CLB), 69008 Lyon, France.', 'Gregory Neveu': \"Evotec, 1541 Avenue Marcel Mérieux, 69280 Marcy l'Etoile, France.\", 'Antoine Alam': \"Evotec, 1541 Avenue Marcel Mérieux, 69280 Marcy l'Etoile, France.\", 'Laurent Fraisse': \"Evotec, 1541 Avenue Marcel Mérieux, 69280 Marcy l'Etoile, France.\", 'Kara Carter': \"Evotec, 1541 Avenue Marcel Mérieux, 69280 Marcy l'Etoile, France.\", 'Barbara Testoni': 'INSERM U1052, CNRS UMR-5286, Cancer Research Center of Lyon (CRCL), Lyon, 69008, France; University of Lyon, Université Claude-Bernard (UCBL), 69008 Lyon, France.', 'Fabien Zoulim': 'INSERM U1052, CNRS UMR-5286, Cancer Research Center of Lyon (CRCL), Lyon, 69008, France; University of Lyon, Université Claude-Bernard (UCBL), 69008 Lyon, France; Hospices Civils de Lyon (HCL), 69002 Lyon, France. Electronic address: fabien.zoulim@inserm.fr.'}\n"
     ]
    }
   ],
   "source": [
    "# Get_authors_and_affiliations\n",
    "auteurs = []\n",
    "affiliations = []\n",
    "authors = html_paper.find_all('span', {'class': \"authors-list-item\"})\n",
    "for author in authors:\n",
    "    try:\n",
    "        aut = author.find('a', {'class': \"full-name\"})['data-ga-label']\n",
    "        auteurs.append(aut)\n",
    "        affil = author.find('a', {'class': \"affiliation-link\"})['title']\n",
    "        affiliations.append(affil)\n",
    "    except TypeError:\n",
    "        continue\n",
    "\n",
    "authors_affiliation_dict = dict(zip(auteurs, affiliations))\n",
    "print(authors_affiliation_dict)\n",
    "\n"
   ]
  },
  {
   "cell_type": "code",
   "execution_count": 64,
   "metadata": {},
   "outputs": [
    {
     "name": "stdout",
     "output_type": "stream",
     "text": [
      "{'abstract': 'The Drosophila JIL-1 kinase is known to phosphorylate histone H3 at Ser10 (H3S10) during interphase. This modification is associated with transcriptional activation, but its function is not well understood. Here we present evidence suggesting that JIl-1-mediated H3S10 phosphorylation is dependent on chromatin remodeling by the brahma complex and is required during early transcription elongation to release RNA polymerase II (Pol II) from promoter-proximal pausing. JIL-1 localizes to transcriptionally active regions and is required for activation of the E75A ecdysone-responsive and hsp70 heat-shock genes. The heat-shock transcription factor, the promoter-paused form of Pol II (Pol IIo(ser5)), and the pausing factor DSIF (DRB sensitivity-inducing factor) are still present at the hsp70 loci in JIL-1-null mutants, whereas levels of the elongating form of Pol II (Pol IIo(ser2)) and the P-TEFb kinase are dramatically reduced. These observations suggest that phosphorylation of H3S10 takes place after transcription initiation but prior to recruitment of P-TEFb and productive elongation. Western analyses of global levels of both forms of Pol II further suggest that JIL-1 plays a general role in early elongation of a broad range of genes. Taken together, the results introduce H3S10 phosphorylation by JIL-1 as a hallmark of early transcription elongation in Drosophila.'}\n"
     ]
    }
   ],
   "source": [
    "# Get_Abstract\n",
    "abstract = html_pubmed.find('div', {'class': \"abstract-content selected\"}).text.strip().replace('\\n', '')\n",
    "abstract_dict = {'abstract': abstract}\n",
    "print(abstract_dict)\n"
   ]
  },
  {
   "cell_type": "code",
   "execution_count": 65,
   "metadata": {},
   "outputs": [
    {
     "name": "stdout",
     "output_type": "stream",
     "text": [
      "Status code: 200\n"
     ]
    }
   ],
   "source": [
    "# GetHTML_Pubmed_Citedby\n",
    "\n",
    "URL = \"https://pubmed.ncbi.nlm.nih.gov/?linkname=pubmed_pubmed_citedin&from_uid=\" + f\"{PMID}\"\n",
    "\n",
    "r = requests.get(URL)\n",
    "print(f\"Status code: {r.status_code}\")\n",
    "citedby = bs(r.text, 'html.parser')"
   ]
  },
  {
   "cell_type": "code",
   "execution_count": 66,
   "metadata": {},
   "outputs": [
    {
     "name": "stdout",
     "output_type": "stream",
     "text": [
      "Status code: 200\n",
      "Status code: 200\n",
      "Status code: 200\n",
      "Status code: 200\n",
      "Status code: 200\n",
      "Status code: 200\n"
     ]
    }
   ],
   "source": [
    "# GetNumberPages\n",
    "ref_citing =[]\n",
    "try:\n",
    "    number_total_pages = int(citedby.find('label', {'class': \"of-total-pages\"}).text.split(' ')[1])\n",
    "except AttributeError:\n",
    "    print(\"Not cited\")\n",
    "else:\n",
    "    # Get RefCytedBy\n",
    "    \n",
    "    ref_page_1 = citedby.find_all('span', {'class': \"docsum-journal-citation full-journal-citation\"})\n",
    "    \n",
    "    for doi in ref_page_1:\n",
    "        ref_doi = doi.text.split('doi:')[1].lstrip(' ')\n",
    "        if len(ref_doi.split(' ')) > 1:\n",
    "            ref_citing.append(ref_doi.split(' ')[0].rstrip('.'))\n",
    "        else:\n",
    "            ref_citing.append(ref_doi.rstrip('.'))\n",
    "\n",
    "\n",
    "if number_total_pages > 1:\n",
    "    for i in range(2, (number_total_pages +1)):\n",
    "        URL_suite = f\"{URL}&page={i}\"\n",
    "        \n",
    "        r = requests.get(URL_suite)\n",
    "        print(f\"Status code: {r.status_code}\")\n",
    "        citedby_suite = bs(r.text, 'html.parser')\n",
    "            \n",
    "        ref_pages_suite = citedby_suite.find_all('span', {'class': \"docsum-journal-citation full-journal-citation\"})\n",
    "        for doi in ref_pages_suite:\n",
    "            ref_doi = doi.text.split('doi:')[1].lstrip(' ')\n",
    "            if len(ref_doi.split(' ')) > 1:\n",
    "                ref_citing.append(ref_doi.split(' ')[0].rstrip('.'))\n",
    "            else:\n",
    "                ref_citing.append(ref_doi.rstrip('.'))\n",
    "del ref_citing[0]"
   ]
  },
  {
   "cell_type": "code",
   "execution_count": 67,
   "metadata": {},
   "outputs": [
    {
     "name": "stdout",
     "output_type": "stream",
     "text": [
      "['10.3390/genes12101596', '10.3390/ijms22073458', '10.1038/s43018-020-00171-8', '10.1038/s41467-020-20089-0', '10.18632/aging.102684', '10.1007/s00412-019-00728-2', '10.1016/j.celrep.2019.07.096', '10.1186/s12864-017-4245-x', '10.1242/dev.151134', '10.1105/tpc.17.00266', '10.3390/genes8050142', '10.1007/s00412-016-0617-2', '10.1016/j.tig.2016.10.002', '10.2174/1570162x14666160324124736', '10.1186/s13578-016-0081-y', '10.1007/s13365-015-0398-z', '10.1139/bcb-2015-0045', '10.1038/nrg3961', '10.1016/j.virol.2015.03.036', '10.1101/cshperspect.a019398', '10.1002/path.4489', '10.5483/bmbrep.2014.47.4.060', '10.1093/nar/gku173', '10.1242/dev.088492', '10.1016/j.molcel.2014.01.005', '10.1093/nar/gkt722', '10.1016/B978-0-12-407708-9.00002-9', '10.4161/cc.24992', '10.1371/journal.pone.0062484', '10.1186/1471-213X-13-7', '10.1128/MCB.00323-12', '10.1371/journal.pone.0053091', '10.1371/journal.pgen.1003153', '10.1074/jbc.M112.427336', '10.3390/ijms131012461', '10.1101/gr.136788.111', '10.1371/journal.pgen.1002646', '10.1155/2012/795069', '10.1101/gr.136929.111', '10.1128/MCB.06546-11', '10.1016/j.molcel.2011.07.035', '10.1074/jbc.M111.284885', '10.1242/dev.067942', '10.1371/journal.pgen.1001327', '10.1074/jbc.M111.223198', '10.1038/nrg2957', '10.4161/fly.5.2.14934', '10.1111/j.1365-2958.2011.07583.x', '10.4161/trns.2.1.13950', '10.1073/pnas.1012798108', '10.1074/jbc.M110.184481', '10.1007/s00412-010-0294-5', '10.1126/science.1191241', '10.1038/ni0710-565', '10.1371/journal.pgen.1000975', '10.1007/s10577-009-9054-x', '10.1007/s00018-009-0112-5', '10.1016/j.cell.2009.05.047', '10.1007/s00412-008-0198-9', '10.1186/1756-8935-1-9', '10.1007/s00412-008-0182-4', '10.1007/s00438-008-0372-z', '10.1242/dev.024927', '10.1016/j.ceb.2008.04.008', '10.1073/pnas.0711310105', '10.1016/j.gde.2007.12.008']\n",
      "66\n"
     ]
    }
   ],
   "source": [
    "print(ref_citing)\n",
    "print(len(ref_citing))"
   ]
  }
 ],
 "metadata": {
  "interpreter": {
   "hash": "206e0edb666d803bbbd47ec97400eb388f4dce468438ef11cfe8e95400420f2d"
  },
  "kernelspec": {
   "display_name": "Python 3.9.7 ('base')",
   "language": "python",
   "name": "python3"
  },
  "language_info": {
   "codemirror_mode": {
    "name": "ipython",
    "version": 3
   },
   "file_extension": ".py",
   "mimetype": "text/x-python",
   "name": "python",
   "nbconvert_exporter": "python",
   "pygments_lexer": "ipython3",
   "version": "3.9.7"
  },
  "orig_nbformat": 4
 },
 "nbformat": 4,
 "nbformat_minor": 2
}
