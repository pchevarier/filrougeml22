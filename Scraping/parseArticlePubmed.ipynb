{
 "cells": [
  {
   "cell_type": "code",
   "execution_count": 1,
   "metadata": {},
   "outputs": [],
   "source": [
    "import requests\n",
    "from bs4 import BeautifulSoup as bs"
   ]
  },
  {
   "cell_type": "code",
   "execution_count": 8,
   "metadata": {},
   "outputs": [
    {
     "name": "stdout",
     "output_type": "stream",
     "text": [
      "Status code: 200\n"
     ]
    }
   ],
   "source": [
    "URL = \"https://pubmed.ncbi.nlm.nih.gov/32087349/\"\n",
    "\n",
    "r = requests.get(URL)\n",
    "print(f\"Status code: {r.status_code}\")\n",
    "html_paper = bs(r.text, 'html.parser')\n"
   ]
  },
  {
   "cell_type": "code",
   "execution_count": 9,
   "metadata": {},
   "outputs": [
    {
     "name": "stdout",
     "output_type": "stream",
     "text": [
      "Full-length 5'RACE identifies all major HBV transcripts in HBV-infected hepatocytes and patient serum\n"
     ]
    }
   ],
   "source": [
    "title = html_paper.h1.text.strip()\n",
    "print(title)\n"
   ]
  },
  {
   "cell_type": "code",
   "execution_count": 11,
   "metadata": {},
   "outputs": [
    {
     "name": "stdout",
     "output_type": "stream",
     "text": [
      "Bernd Stadelmayer\n",
      "INSERM U1052, CNRS UMR-5286, Cancer Research Center of Lyon (CRCL), Lyon, 69008, France; University of Lyon, Université Claude-Bernard (UCBL), 69008 Lyon, France. Electronic address: bernd.stadelmayer@inserm.fr.\n",
      "Audrey Diederichs\n",
      "INSERM U1052, CNRS UMR-5286, Cancer Research Center of Lyon (CRCL), Lyon, 69008, France; University of Lyon, Université Claude-Bernard (UCBL), 69008 Lyon, France.\n",
      "Fleur Chapus\n",
      "INSERM U1052, CNRS UMR-5286, Cancer Research Center of Lyon (CRCL), Lyon, 69008, France; University of Lyon, Université Claude-Bernard (UCBL), 69008 Lyon, France.\n",
      "Michel Rivoire\n",
      "INSERM U1032, Centre Léon Bérard (CLB), 69008 Lyon, France.\n",
      "Gregory Neveu\n",
      "Evotec, 1541 Avenue Marcel Mérieux, 69280 Marcy l'Etoile, France.\n",
      "Antoine Alam\n",
      "Evotec, 1541 Avenue Marcel Mérieux, 69280 Marcy l'Etoile, France.\n",
      "Laurent Fraisse\n",
      "Evotec, 1541 Avenue Marcel Mérieux, 69280 Marcy l'Etoile, France.\n",
      "Kara Carter\n",
      "Evotec, 1541 Avenue Marcel Mérieux, 69280 Marcy l'Etoile, France.\n",
      "Barbara Testoni\n",
      "INSERM U1052, CNRS UMR-5286, Cancer Research Center of Lyon (CRCL), Lyon, 69008, France; University of Lyon, Université Claude-Bernard (UCBL), 69008 Lyon, France.\n",
      "Fabien Zoulim\n",
      "INSERM U1052, CNRS UMR-5286, Cancer Research Center of Lyon (CRCL), Lyon, 69008, France; University of Lyon, Université Claude-Bernard (UCBL), 69008 Lyon, France; Hospices Civils de Lyon (HCL), 69002 Lyon, France. Electronic address: fabien.zoulim@inserm.fr.\n",
      "Bernd Stadelmayer\n",
      "INSERM U1052, CNRS UMR-5286, Cancer Research Center of Lyon (CRCL), Lyon, 69008, France; University of Lyon, Université Claude-Bernard (UCBL), 69008 Lyon, France. Electronic address: bernd.stadelmayer@inserm.fr.\n",
      "Audrey Diederichs\n",
      "INSERM U1052, CNRS UMR-5286, Cancer Research Center of Lyon (CRCL), Lyon, 69008, France; University of Lyon, Université Claude-Bernard (UCBL), 69008 Lyon, France.\n",
      "Fleur Chapus\n",
      "INSERM U1052, CNRS UMR-5286, Cancer Research Center of Lyon (CRCL), Lyon, 69008, France; University of Lyon, Université Claude-Bernard (UCBL), 69008 Lyon, France.\n",
      "Michel Rivoire\n",
      "INSERM U1032, Centre Léon Bérard (CLB), 69008 Lyon, France.\n",
      "Gregory Neveu\n",
      "Evotec, 1541 Avenue Marcel Mérieux, 69280 Marcy l'Etoile, France.\n",
      "Antoine Alam\n",
      "Evotec, 1541 Avenue Marcel Mérieux, 69280 Marcy l'Etoile, France.\n",
      "Laurent Fraisse\n",
      "Evotec, 1541 Avenue Marcel Mérieux, 69280 Marcy l'Etoile, France.\n",
      "Kara Carter\n",
      "Evotec, 1541 Avenue Marcel Mérieux, 69280 Marcy l'Etoile, France.\n",
      "Barbara Testoni\n",
      "INSERM U1052, CNRS UMR-5286, Cancer Research Center of Lyon (CRCL), Lyon, 69008, France; University of Lyon, Université Claude-Bernard (UCBL), 69008 Lyon, France.\n",
      "Fabien Zoulim\n",
      "INSERM U1052, CNRS UMR-5286, Cancer Research Center of Lyon (CRCL), Lyon, 69008, France; University of Lyon, Université Claude-Bernard (UCBL), 69008 Lyon, France; Hospices Civils de Lyon (HCL), 69002 Lyon, France. Electronic address: fabien.zoulim@inserm.fr.\n"
     ]
    }
   ],
   "source": [
    "#authors = html_paper.find_all('a', {'class': \"full-name\"})\n",
    "authors = html_paper.find_all('span', {'class': \"authors-list-item\"})\n",
    "for author in authors:\n",
    "    #aut = author.find('a', {'class': \"full-name\"})\n",
    "    #print(aut.text)\n",
    "    try:\n",
    "        aut = author.find('a', {'class': \"full-name\"})['data-ga-label']\n",
    "        print(aut)\n",
    "        affil = author.find('a', {'class': \"affiliation-link\"})['title']\n",
    "        print(affil)\n",
    "    except TypeError:\n",
    "        continue\n",
    "\n",
    "\n",
    "\n"
   ]
  },
  {
   "cell_type": "code",
   "execution_count": 12,
   "metadata": {},
   "outputs": [
    {
     "name": "stdout",
     "output_type": "stream",
     "text": [
      "Background & aims:\n",
      "        \n",
      "      \n",
      "      Covalently closed circular DNA (cccDNA) is the episomal form of the HBV genome that stably resides in the nucleus of infected hepatocytes. cccDNA is the template for the transcription of 6 major viral RNAs, i.e. preC, pg, preS1/2, S and HBx RNA. All viral transcripts share the same 3' end and are all to various degrees subsets of each other. Especially under infection conditions, it has been difficult to study in depth the transcription of the different viral transcripts. We thus wanted to develop a method with which we could easily detect the full spectrum of viral RNAs in any lab.\n",
      "    \n",
      "\n",
      "\n",
      "          Methods:\n",
      "        \n",
      "      \n",
      "      We set up an HBV full-length 5'RACE (rapid amplification of cDNA ends) method with which we measured and characterized the full spectrum of viral RNAs in cell culture and in chronically infected patients.\n",
      "    \n",
      "\n",
      "\n",
      "          Results:\n",
      "        \n",
      "      \n",
      "      In addition to canonical HBx transcripts coding for full-length X, we identified shorter HBx transcripts potentially coding for short X proteins. We showed that interferon-β treatment leads to a strong reduction of preC and pgRNAs but has only a moderate effect on the other viral transcripts. We found pgRNA, 1 spliced pgRNA variant and a variety of HBx transcripts associated with viral particles generated by HepAD38 cells. The different HBx RNAs are both capped and uncapped. Lastly, we identified 3 major categories of circulating RNA species in patients with chronic HBV infection: pgRNA, spliced pgRNA variants and HBx.\n",
      "    \n",
      "\n",
      "\n",
      "          Conclusions:\n",
      "        \n",
      "      \n",
      "      This HBV full-length 5'RACE method should significantly contribute to the understanding of HBV transcription during the course of infection and therapy and may guide the development of novel therapies aimed at targeting cccDNA.\n",
      "    \n",
      "\n",
      "\n",
      "          Lay summary:\n",
      "        \n",
      "      \n",
      "      Especially under infection conditions, it has been difficult to study the different hepatitis B virus transcripts in depth. This study introduces a new method that can be used in any standard lab to discriminate all hepatitis B viral transcripts in cell culture and in the serum of patients.\n"
     ]
    }
   ],
   "source": [
    "abstract = html_paper.find('div', {'class': \"abstract-content selected\"}).text.strip()\n",
    "print(abstract)\n"
   ]
  },
  {
   "cell_type": "code",
   "execution_count": 13,
   "metadata": {},
   "outputs": [
    {
     "name": "stdout",
     "output_type": "stream",
     "text": [
      "Status code: 200\n"
     ]
    }
   ],
   "source": [
    "URLr = URL + \"references/\"\n",
    "r = requests.get(URLr)\n",
    "print(f\"Status code: {r.status_code}\")\n",
    "html_references = bs(r.text, 'html.parser')\n"
   ]
  },
  {
   "cell_type": "code",
   "execution_count": 14,
   "metadata": {},
   "outputs": [
    {
     "name": "stdout",
     "output_type": "stream",
     "text": [
      "0\n"
     ]
    }
   ],
   "source": [
    "references =  html_references.find_all('li', {'class': \"skip-numbering\"})\n",
    "for ref in references:\n",
    "    print(ref.text.strip().split(\"        \")[0].rstrip(\"\\n\")) \n",
    "print(len(references))"
   ]
  },
  {
   "cell_type": "code",
   "execution_count": 6,
   "metadata": {},
   "outputs": [
    {
     "name": "stdout",
     "output_type": "stream",
     "text": [
      "https://pubmed.ncbi.nlm.nih.gov/25410209/ref\n"
     ]
    }
   ],
   "source": [
    "f = URL + \"references\"\n",
    "print(f)"
   ]
  }
 ],
 "metadata": {
  "interpreter": {
   "hash": "206e0edb666d803bbbd47ec97400eb388f4dce468438ef11cfe8e95400420f2d"
  },
  "kernelspec": {
   "display_name": "Python 3.9.7 ('base')",
   "language": "python",
   "name": "python3"
  },
  "language_info": {
   "codemirror_mode": {
    "name": "ipython",
    "version": 3
   },
   "file_extension": ".py",
   "mimetype": "text/x-python",
   "name": "python",
   "nbconvert_exporter": "python",
   "pygments_lexer": "ipython3",
   "version": "3.9.7"
  },
  "orig_nbformat": 4
 },
 "nbformat": 4,
 "nbformat_minor": 2
}
