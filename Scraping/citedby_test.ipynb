{
 "cells": [
  {
   "cell_type": "code",
   "execution_count": 1,
   "metadata": {},
   "outputs": [],
   "source": [
    "import requests\n",
    "from bs4 import BeautifulSoup as bs\n",
    "import json"
   ]
  },
  {
   "cell_type": "code",
   "execution_count": 85,
   "metadata": {},
   "outputs": [
    {
     "name": "stdout",
     "output_type": "stream",
     "text": [
      "Status code: 200\n"
     ]
    }
   ],
   "source": [
    "# GetHTML_Pubmed_Citedby\n",
    "PMID = \"25410209\"\n",
    "URL = \"https://pubmed.ncbi.nlm.nih.gov/?linkname=pubmed_pubmed_citedin&from_uid=\" + f\"{PMID}\"\n",
    "print(URL)\n",
    "r = requests.get(URL)\n",
    "print(f\"Status code: {r.status_code}\")\n",
    "citedby = bs(r.text, 'html.parser')"
   ]
  },
  {
   "cell_type": "code",
   "execution_count": 95,
   "metadata": {},
   "outputs": [
    {
     "name": "stdout",
     "output_type": "stream",
     "text": [
      "https://pubmed.ncbi.nlm.nih.gov/?linkname=pubmed_pubmed_citedin&from_uid=25410209&page=2\n",
      "Status code: 200\n",
      "https://pubmed.ncbi.nlm.nih.gov/?linkname=pubmed_pubmed_citedin&from_uid=25410209&page=3\n",
      "Status code: 200\n",
      "https://pubmed.ncbi.nlm.nih.gov/?linkname=pubmed_pubmed_citedin&from_uid=25410209&page=4\n",
      "Status code: 200\n",
      "https://pubmed.ncbi.nlm.nih.gov/?linkname=pubmed_pubmed_citedin&from_uid=25410209&page=5\n",
      "Status code: 200\n",
      "https://pubmed.ncbi.nlm.nih.gov/?linkname=pubmed_pubmed_citedin&from_uid=25410209&page=6\n",
      "Status code: 200\n",
      "https://pubmed.ncbi.nlm.nih.gov/?linkname=pubmed_pubmed_citedin&from_uid=25410209&page=7\n",
      "Status code: 200\n",
      "{'cited_by': ['10.1186/s12964-021-00776-1', '10.1126/sciadv.abh1684', '10.1126/sciadv.abb2947', '10.1016/j.devcel.2021.02.025', '10.1016/j.molcel.2020.12.002', '10.1016/j.ceb.2020.11.003', '10.15252/embj.2020105564', '10.1093/nar/gkaa1208', '10.1371/journal.ppat.1009055', '10.1038/s41580-020-00308-8', '10.1016/j.celrep.2020.108319', '10.1016/j.molcel.2020.08.016', '10.1016/j.tibs.2020.07.004', '10.1073/pnas.2002115117', '10.1016/j.celrep.2020.107917', '10.1038/s41467-020-17232-2', '10.1186/s12943-020-01195-5', '10.1038/s41580-020-0234-z', '10.1073/pnas.1913754117', '10.1016/j.molcel.2020.02.014', '10.4049/jimmunol.1900650', '10.1002/1878-0261.12619', '10.1016/j.molcel.2019.10.034', '10.1038/s41586-019-1618-0', '10.1101/gad.330167.119', '10.1073/pnas.1904324116', '10.1104/pp.19.00231', '10.1016/j.tig.2019.05.005', '10.1098/rsbl.2019.0068', '10.1371/journal.pgen.1007981', '10.1038/s41598-018-38297-6', '10.1016/j.molcel.2018.10.011', '10.1128/mBio.01182-18', '10.1016/j.molcel.2018.05.031', '10.1038/s41467-018-03417-3', '10.1093/nar/gky100', '10.1038/nrm.2017.113', '10.1038/s41467-017-01402-w', '10.1038/ncomms15908', '10.1098/rsob.170073', '10.1371/journal.pgen.1006809', '10.1093/nar/gkx411', '10.3390/ijms18050936', '10.1073/pnas.1616605114', '10.1038/ncomms14861', '10.1016/j.molcel.2017.02.023', '10.1186/s12864-017-3628-3', '10.1101/gad.293134.116', '10.1182/blood-2016-06-725093', '10.1016/j.neuron.2016.11.047', '10.1371/journal.pbio.1002571', '10.1002/bies.201600144', '10.1074/jbc.M116.751420', '10.7554/eLife.14981', '10.1038/ncomms11664', '10.1139/bcb-2015-0045', '10.1080/21541264.2015.1095269', '10.1038/nature14906', '10.1016/j.cell.2015.07.042', '10.1101/gad.266973.115', '10.1101/gr.189894.115', '10.1016/j.tibs.2015.03.005']}\n"
     ]
    }
   ],
   "source": [
    "# GetNumberPages\n",
    "ref_citing =[]\n",
    "try:\n",
    "    number_total_pages = int(citedby.find('label', {'class': \"of-total-pages\"}).text.split(' ')[1])\n",
    "except AttributeError:\n",
    "    print(\"Not cited\")\n",
    "else:\n",
    "    # Get RefCytedBy\n",
    "    \n",
    "    ref_page_1 = citedby.find_all('span', {'class': \"docsum-journal-citation full-journal-citation\"})\n",
    "    \n",
    "    for doi in ref_page_1:\n",
    "        ref_doi = doi.text.split('doi:')[1].lstrip(' ')\n",
    "        if len(ref_doi.split(' ')) > 1:\n",
    "            ref_citing.append(ref_doi.split(' ')[0].rstrip('.'))\n",
    "        else:\n",
    "            ref_citing.append(ref_doi.rstrip('.'))\n",
    "\n",
    "\n",
    "if number_total_pages > 1:\n",
    "    for i in range(2, (number_total_pages +1)):\n",
    "        URL_suite = f\"{URL}&page={i}\"\n",
    "        print(URL_suite)\n",
    "        r = requests.get(URL_suite)\n",
    "        print(f\"Status code: {r.status_code}\")\n",
    "        citedby_suite = bs(r.text, 'html.parser')\n",
    "            \n",
    "        ref_pages_suite = citedby_suite.find_all('span', {'class': \"docsum-journal-citation full-journal-citation\"})\n",
    "        for doi in ref_pages_suite:\n",
    "            ref_doi = doi.text.split('doi:')[1].lstrip(' ')\n",
    "            if len(ref_doi.split(' ')) > 1:\n",
    "                ref_citing.append(ref_doi.split(' ')[0].rstrip('.'))\n",
    "            else:\n",
    "                ref_citing.append(ref_doi.rstrip('.'))\n",
    "del ref_citing[0]\n",
    "citedby_dict = {'cited_by': ref_citing}\n",
    "print(citedby_dict)"
   ]
  },
  {
   "cell_type": "code",
   "execution_count": 93,
   "metadata": {},
   "outputs": [
    {
     "name": "stdout",
     "output_type": "stream",
     "text": [
      "{'10.1016/j.molcel.2020.08.016', '10.1073/pnas.1616605114', '10.1128/mBio.01182-18', '10.1016/j.molcel.2017.02.023', '10.1093/nar/gkaa1208', '10.1098/rsbl.2019.0068', '10.1016/j.molcel.2019.10.034', '10.1016/j.molcel.2020.12.002', '10.1002/bies.201600144', '10.1186/s12943-020-01195-5', '10.1139/bcb-2015-0045', '10.1016/j.celrep.2020.108319', '10.1073/pnas.2002115117', '10.1101/gad.266973.115', '10.1104/pp.19.00231', '10.1074/jbc.M116.751420', '10.1038/nature14906', '10.1038/s41586-019-1618-0', '10.1038/s41467-017-01402-w', '10.1186/s12864-017-3628-3', '10.1038/s41598-018-38297-6', '10.1016/j.cell.2015.07.042', '10.1016/j.molcel.2018.05.031', '10.1016/j.molcel.2018.10.011', '10.1038/s41580-020-00308-8', '10.1038/ncomms15908', '10.1080/21541264.2015.1095269', '10.1016/j.celrep.2020.107917', '10.1098/rsob.170073', '10.1038/ncomms14861', '10.1038/nrm.2017.113', '10.1016/j.neuron.2016.11.047', '10.1182/blood-2016-06-725093', '10.1093/nar/gkx411', '10.1002/1878-0261.12619', '10.1126/sciadv.abb2947', '10.1126/sciadv.abh1684', '10.15252/embj.2020105564', '10.4049/jimmunol.1900650', '10.1073/pnas.1904324116', '10.1371/journal.pgen.1007981', '10.1186/s12964-021-00776-1', '10.1101/gad.293134.116', '10.1016/j.tibs.2015.03.005', '10.1101/gad.330167.119', '10.1093/nar/gky100', '10.1038/s41467-020-17232-2', '10.1371/journal.pbio.1002571', '10.3390/ijms18050936', '10.1016/j.tibs.2020.07.004', '10.1038/ncomms11664', '10.1016/j.molcel.2020.02.014', '10.7554/eLife.14981', '10.1016/j.ceb.2020.11.003', '10.1371/journal.ppat.1009055', '10.1101/gr.189894.115', '10.1016/j.devcel.2021.02.025', '10.1038/s41467-018-03417-3', '10.1016/j.tig.2019.05.005', '10.1038/s41580-020-0234-z', '10.1371/journal.pgen.1006809', '10.1073/pnas.1913754117'}\n"
     ]
    }
   ],
   "source": [
    "myset = set(ref_citing)\n",
    "print(myset)"
   ]
  }
 ],
 "metadata": {
  "interpreter": {
   "hash": "206e0edb666d803bbbd47ec97400eb388f4dce468438ef11cfe8e95400420f2d"
  },
  "kernelspec": {
   "display_name": "Python 3.9.7 ('base')",
   "language": "python",
   "name": "python3"
  },
  "language_info": {
   "codemirror_mode": {
    "name": "ipython",
    "version": 3
   },
   "file_extension": ".py",
   "mimetype": "text/x-python",
   "name": "python",
   "nbconvert_exporter": "python",
   "pygments_lexer": "ipython3",
   "version": "3.9.7"
  },
  "orig_nbformat": 4
 },
 "nbformat": 4,
 "nbformat_minor": 2
}
