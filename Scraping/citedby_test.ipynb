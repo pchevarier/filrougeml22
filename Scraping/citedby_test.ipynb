{
 "cells": [
  {
   "cell_type": "code",
   "execution_count": 1,
   "metadata": {},
   "outputs": [],
   "source": [
    "import requests\n",
    "from bs4 import BeautifulSoup as bs\n",
    "import json"
   ]
  },
  {
   "cell_type": "code",
   "execution_count": 10,
   "metadata": {},
   "outputs": [
    {
     "name": "stdout",
     "output_type": "stream",
     "text": [
      "Status code: 200\n"
     ]
    }
   ],
   "source": [
    "# GetHTML_Pubmed\n",
    "PMID = \n",
    "URL = \"https://pubmed.ncbi.nlm.nih.gov/?linkname=pubmed_pubmed_citedin&from_uid=\" + f\"{PMID}\"\n",
    "\n",
    "r = requests.get(URL)\n",
    "print(f\"Status code: {r.status_code}\")\n",
    "citedby = bs(r.text, 'html.parser')"
   ]
  },
  {
   "cell_type": "code",
   "execution_count": 23,
   "metadata": {},
   "outputs": [
    {
     "name": "stdout",
     "output_type": "stream",
     "text": [
      "10.1038/ncomms6531\n",
      "10.1186/s12964-021-00776-1\n",
      "10.1126/sciadv.abh1684\n",
      "10.1126/sciadv.abb2947\n",
      "10.1016/j.devcel.2021.02.025\n",
      "10.1016/j.molcel.2020.12.002\n",
      "10.1016/j.ceb.2020.11.003\n",
      "10.15252/embj.2020105564\n",
      "10.1093/nar/gkaa1208\n",
      "10.1371/journal.ppat.1009055\n"
     ]
    }
   ],
   "source": [
    "# GetNumberPages\n",
    "number_total_pages = citedby.find('label', {'class': \"of-total-pages\"}).text.split(' ')[1]\n",
    "number_total_pages\n",
    "\n",
    "ref_page_1 = citedby.find_all('span', {'class': \"docsum-journal-citation full-journal-citation\"})\n",
    "for doi in ref_page_1:\n",
    "    str_1 = doi.text.split('doi:')[1].lstrip(' ').split(' ')[0].rstrip('.')\n",
    "    print(str_1)"
   ]
  }
 ],
 "metadata": {
  "interpreter": {
   "hash": "206e0edb666d803bbbd47ec97400eb388f4dce468438ef11cfe8e95400420f2d"
  },
  "kernelspec": {
   "display_name": "Python 3.9.7 ('base')",
   "language": "python",
   "name": "python3"
  },
  "language_info": {
   "codemirror_mode": {
    "name": "ipython",
    "version": 3
   },
   "file_extension": ".py",
   "mimetype": "text/x-python",
   "name": "python",
   "nbconvert_exporter": "python",
   "pygments_lexer": "ipython3",
   "version": "3.9.7"
  },
  "orig_nbformat": 4
 },
 "nbformat": 4,
 "nbformat_minor": 2
}
