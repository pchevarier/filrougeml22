{
 "cells": [
  {
   "cell_type": "code",
   "execution_count": 14,
   "metadata": {},
   "outputs": [
    {
     "data": {
      "text/plain": [
       "['credentials.ini']"
      ]
     },
     "execution_count": 14,
     "metadata": {},
     "output_type": "execute_result"
    }
   ],
   "source": [
    "import configparser\n",
    "\n",
    "config = configparser.ConfigParser()\n",
    "config.read('credentials.ini')"
   ]
  },
  {
   "cell_type": "code",
   "execution_count": 20,
   "metadata": {},
   "outputs": [],
   "source": [
    "def get_database():\n",
    "  import pymongo\n",
    "\n",
    "  CONNECTION_STRING = f'mongodb+srv://{config[\"MONGODB\"][\"user\"]}:{config[\"MONGODB\"][\"password\"]}@{config[\"MONGODB\"][\"cluster\"]}'\n",
    "  # Create a connection using MongoClient. You can import MongoClient or use pymongo.MongoClient\n",
    "  client = pymongo.MongoClient(CONNECTION_STRING)\n",
    "\n",
    "  # Create the database for our example (we will use the same database throughout the tutorial\n",
    "  return client[config[\"MONGODB\"][\"database\"]]\n",
    "    \n",
    "# This is added so that many files can reuse the function get_database()\n",
    "if __name__ == \"__main__\":    \n",
    "    \n",
    "  # Get the database\n",
    "  dbname = get_database()"
   ]
  },
  {
   "cell_type": "code",
   "execution_count": 23,
   "metadata": {},
   "outputs": [
    {
     "data": {
      "text/plain": [
       "[{'_id': 'U1IT00001',\n",
       "  'item_name': 'Blender',\n",
       "  'max_discount': '10%',\n",
       "  'batch_number': 'RR450020FRG',\n",
       "  'price': 340,\n",
       "  'category': 'kitchen appliance'},\n",
       " {'_id': 'U1IT00002',\n",
       "  'item_name': 'Egg',\n",
       "  'category': 'food',\n",
       "  'quantity': 12,\n",
       "  'price': 36,\n",
       "  'item_description': 'brown country eggs'}]"
      ]
     },
     "execution_count": 23,
     "metadata": {},
     "output_type": "execute_result"
    }
   ],
   "source": [
    "# test d'insert\n",
    "# Todo : ne pas exécuter\n",
    "# collection_name = dbname[config['MONGODB']['collection']]\n",
    "item_1 = {\n",
    "\"_id\" : \"U1IT00001\",\n",
    "\"item_name\" : \"Blender\",\n",
    "\"max_discount\" : \"10%\",\n",
    "\"batch_number\" : \"RR450020FRG\",\n",
    "\"price\" : 340,\n",
    "\"category\" : \"kitchen appliance\"\n",
    "}\n",
    "\n",
    "item_2 = {\n",
    "\"_id\" : \"U1IT00002\",\n",
    "\"item_name\" : \"Egg\",\n",
    "\"category\" : \"food\",\n",
    "\"quantity\" : 12,\n",
    "\"price\" : 36,\n",
    "\"item_description\" : \"brown country eggs\"\n",
    "}\n",
    "# collection_name.insert_many([item_1,item_2])\n",
    "\n",
    "[item_1,item_2]"
   ]
  }
 ],
 "metadata": {
  "interpreter": {
   "hash": "e89236a720cd9808cf94a8a46034e15efd36721989ba1d1d38e86c9d8d4e6962"
  },
  "kernelspec": {
   "display_name": "Python 3.9.10 64-bit (windows store)",
   "language": "python",
   "name": "python3"
  },
  "language_info": {
   "codemirror_mode": {
    "name": "ipython",
    "version": 3
   },
   "file_extension": ".py",
   "mimetype": "text/x-python",
   "name": "python",
   "nbconvert_exporter": "python",
   "pygments_lexer": "ipython3",
   "version": "3.8.8"
  },
  "orig_nbformat": 4
 },
 "nbformat": 4,
 "nbformat_minor": 2
}
