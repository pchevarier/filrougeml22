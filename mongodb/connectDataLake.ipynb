{
 "cells": [
  {
   "cell_type": "code",
   "execution_count": 29,
   "metadata": {},
   "outputs": [
    {
     "data": {
      "text/plain": [
       "['credentials.ini']"
      ]
     },
     "execution_count": 29,
     "metadata": {},
     "output_type": "execute_result"
    }
   ],
   "source": [
    "import configparser\n",
    "\n",
    "config = configparser.ConfigParser()\n",
    "config.read('credentials.ini')\n"
   ]
  },
  {
   "cell_type": "code",
   "execution_count": 32,
   "metadata": {},
   "outputs": [
    {
     "data": {
      "text/plain": [
       "Database(MongoClient(host=['filrougeml22datalake-wlaxm.a.query.mongodb.net:27017'], document_class=dict, tz_aware=False, connect=True, authsource='admin', tls=True), 'pubmedDL')"
      ]
     },
     "execution_count": 32,
     "metadata": {},
     "output_type": "execute_result"
    }
   ],
   "source": [
    "import pymongo\n",
    "client = pymongo.MongoClient(f'mongodb://{config[\"DATALAKE\"][\"user\"]}:{config[\"DATALAKE\"][\"password\"]}@{config[\"DATALAKE\"][\"cluster\"]}/{config[\"DATALAKE\"][\"database\"]}?ssl=true&authSource=admin')\n",
    "db = client[config[\"DATALAKE\"][\"database\"]]\n",
    "db\n"
   ]
  },
  {
   "cell_type": "code",
   "execution_count": 33,
   "metadata": {},
   "outputs": [],
   "source": [
    "test = db[config[\"DATALAKE\"][\"collection\"]].find({'title': 'blabla'}).limit(5)\n",
    "\n",
    "for x in test:\n",
    "  print(x)"
   ]
  }
 ],
 "metadata": {
  "interpreter": {
   "hash": "48a106b526281f8d61e52c005534097878361ede5ed679f5179f6f8217da0f38"
  },
  "kernelspec": {
   "display_name": "Python 3.8.8 ('base')",
   "language": "python",
   "name": "python3"
  },
  "language_info": {
   "codemirror_mode": {
    "name": "ipython",
    "version": 3
   },
   "file_extension": ".py",
   "mimetype": "text/x-python",
   "name": "python",
   "nbconvert_exporter": "python",
   "pygments_lexer": "ipython3",
   "version": "3.8.8"
  },
  "orig_nbformat": 4
 },
 "nbformat": 4,
 "nbformat_minor": 2
}
