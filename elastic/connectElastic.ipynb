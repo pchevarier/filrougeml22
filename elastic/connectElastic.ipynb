{
 "cells": [
  {
   "cell_type": "markdown",
   "metadata": {},
   "source": [
    "https://www.elastic.co/guide/en/cloud/current/ec-getting-started-python.html"
   ]
  },
  {
   "cell_type": "code",
   "execution_count": 7,
   "metadata": {},
   "outputs": [
    {
     "data": {
      "text/plain": [
       "['credentials.ini']"
      ]
     },
     "execution_count": 7,
     "metadata": {},
     "output_type": "execute_result"
    }
   ],
   "source": [
    "from elasticsearch import Elasticsearch, helpers\n",
    "import configparser\n",
    "\n",
    "config = configparser.ConfigParser()\n",
    "config.read('credentials.ini')"
   ]
  },
  {
   "cell_type": "code",
   "execution_count": 8,
   "metadata": {},
   "outputs": [],
   "source": [
    "es = Elasticsearch(\n",
    "    cloud_id=config['ELASTIC']['cloud_id'],\n",
    "    basic_auth=(config['ELASTIC']['user'], config['ELASTIC']['password'])\n",
    ")"
   ]
  },
  {
   "cell_type": "code",
   "execution_count": 9,
   "metadata": {},
   "outputs": [
    {
     "data": {
      "text/plain": [
       "ObjectApiResponse({'name': 'instance-0000000001', 'cluster_name': '9f3de181749d4dc29cbb653098dcf08f', 'cluster_uuid': 'OrC8iT-uQdWjuTKYjshRPA', 'version': {'number': '8.0.0', 'build_flavor': 'default', 'build_type': 'docker', 'build_hash': '1b6a7ece17463df5ff54a3e1302d825889aa1161', 'build_date': '2022-02-03T16:47:57.507843096Z', 'build_snapshot': False, 'lucene_version': '9.0.0', 'minimum_wire_compatibility_version': '7.17.0', 'minimum_index_compatibility_version': '7.0.0'}, 'tagline': 'You Know, for Search'})"
      ]
     },
     "execution_count": 9,
     "metadata": {},
     "output_type": "execute_result"
    }
   ],
   "source": [
    "es.info()"
   ]
  },
  {
   "cell_type": "code",
   "execution_count": 36,
   "metadata": {},
   "outputs": [],
   "source": [
    "#FilrougeML IO Librairy\n",
    "# Dataframe <-> Json\n",
    "#\n",
    "import pandas as pd\n",
    "import json\n",
    "\n",
    "gorient = 'columns'\n",
    "\n",
    "art = pd.DataFrame([['art5','blabla','my wonderful body','references',{'Name':'none','Id':'1654','Organization':'orga1654'},'cited by','22/5/2020','google.com','pubmed']],\n",
    "                  columns = ['title','abstract','body','refto','authors','refby','datepub','url','libname'])\n",
    "\n",
    "artjson =art.to_json(orient=gorient)"
   ]
  },
  {
   "cell_type": "code",
   "execution_count": 37,
   "metadata": {},
   "outputs": [
    {
     "data": {
      "text/plain": [
       "ObjectApiResponse({'_index': 'redlineml22', '_id': 'art5', '_version': 1, 'result': 'created', '_shards': {'total': 2, 'successful': 2, 'failed': 0}, '_seq_no': 6, '_primary_term': 1})"
      ]
     },
     "execution_count": 37,
     "metadata": {},
     "output_type": "execute_result"
    }
   ],
   "source": [
    "es.index(\n",
    " index='redlineml22',\n",
    " id='art5',\n",
    " document=artjson)"
   ]
  },
  {
   "cell_type": "code",
   "execution_count": 24,
   "metadata": {},
   "outputs": [
    {
     "data": {
      "text/plain": [
       "ObjectApiResponse({'_shards': {'total': 2, 'successful': 2, 'failed': 0}})"
      ]
     },
     "execution_count": 24,
     "metadata": {},
     "output_type": "execute_result"
    }
   ],
   "source": [
    "es.indices.refresh(index='test')"
   ]
  },
  {
   "cell_type": "code",
   "execution_count": 27,
   "metadata": {},
   "outputs": [
    {
     "data": {
      "text/plain": [
       "ObjectApiResponse({'took': 0, 'timed_out': False, '_shards': {'total': 1, 'successful': 1, 'skipped': 0, 'failed': 0}, 'hits': {'total': {'value': 0, 'relation': 'eq'}, 'max_score': None, 'hits': []}})"
      ]
     },
     "execution_count": 27,
     "metadata": {},
     "output_type": "execute_result"
    }
   ],
   "source": [
    "result = es.search(\n",
    " index='test',\n",
    "  query={\n",
    "    'match': {'title': 'art1'}\n",
    "  }\n",
    " )\n",
    "\n",
    "result"
   ]
  },
  {
   "cell_type": "code",
   "execution_count": 42,
   "metadata": {},
   "outputs": [
    {
     "ename": "ImportError",
     "evalue": "cannot import name 'APIError' from 'elastic_transport' (C:\\Users\\rouxa\\AppData\\Local\\Packages\\PythonSoftwareFoundation.Python.3.9_qbz5n2kfra8p0\\LocalCache\\local-packages\\Python39\\site-packages\\elastic_transport\\__init__.py)",
     "output_type": "error",
     "traceback": [
      "\u001b[1;31m---------------------------------------------------------------------------\u001b[0m",
      "\u001b[1;31mImportError\u001b[0m                               Traceback (most recent call last)",
      "\u001b[1;32m~\\AppData\\Local\\Temp/ipykernel_16868/3275107028.py\u001b[0m in \u001b[0;36m<module>\u001b[1;34m\u001b[0m\n\u001b[0;32m      3\u001b[0m \u001b[1;31m# client = EnterpriseSearch(\"https://filrougeml22.ent.eu-west-1.aws.found.io\")\u001b[0m\u001b[1;33m\u001b[0m\u001b[1;33m\u001b[0m\u001b[0m\n\u001b[0;32m      4\u001b[0m \u001b[1;33m\u001b[0m\u001b[0m\n\u001b[1;32m----> 5\u001b[1;33m \u001b[1;32mfrom\u001b[0m \u001b[0melastic_enterprise_search\u001b[0m \u001b[1;32mimport\u001b[0m \u001b[0mAppSearch\u001b[0m\u001b[1;33m\u001b[0m\u001b[1;33m\u001b[0m\u001b[0m\n\u001b[0m\u001b[0;32m      6\u001b[0m \u001b[1;33m\u001b[0m\u001b[0m\n\u001b[0;32m      7\u001b[0m \u001b[1;31m# Create an AppSearch client authenticated with a search key.\u001b[0m\u001b[1;33m\u001b[0m\u001b[1;33m\u001b[0m\u001b[0m\n",
      "\u001b[1;32m~\\AppData\\Local\\Packages\\PythonSoftwareFoundation.Python.3.9_qbz5n2kfra8p0\\LocalCache\\local-packages\\Python39\\site-packages\\elastic_enterprise_search\\__init__.py\u001b[0m in \u001b[0;36m<module>\u001b[1;34m\u001b[0m\n\u001b[0;32m     21\u001b[0m \u001b[1;32mimport\u001b[0m \u001b[0mwarnings\u001b[0m\u001b[1;33m\u001b[0m\u001b[1;33m\u001b[0m\u001b[0m\n\u001b[0;32m     22\u001b[0m \u001b[1;33m\u001b[0m\u001b[0m\n\u001b[1;32m---> 23\u001b[1;33m \u001b[1;32mfrom\u001b[0m \u001b[0melastic_transport\u001b[0m \u001b[1;32mimport\u001b[0m \u001b[0mAPIError\u001b[0m \u001b[1;32mas\u001b[0m \u001b[0mAPIError\u001b[0m\u001b[1;33m\u001b[0m\u001b[1;33m\u001b[0m\u001b[0m\n\u001b[0m\u001b[0;32m     24\u001b[0m \u001b[1;32mfrom\u001b[0m \u001b[0melastic_transport\u001b[0m \u001b[1;32mimport\u001b[0m \u001b[0mBadGatewayError\u001b[0m \u001b[1;32mas\u001b[0m \u001b[0mBadGatewayError\u001b[0m\u001b[1;33m\u001b[0m\u001b[1;33m\u001b[0m\u001b[0m\n\u001b[0;32m     25\u001b[0m \u001b[1;32mfrom\u001b[0m \u001b[0melastic_transport\u001b[0m \u001b[1;32mimport\u001b[0m \u001b[0mBadRequestError\u001b[0m \u001b[1;32mas\u001b[0m \u001b[0mBadRequestError\u001b[0m\u001b[1;33m\u001b[0m\u001b[1;33m\u001b[0m\u001b[0m\n",
      "\u001b[1;31mImportError\u001b[0m: cannot import name 'APIError' from 'elastic_transport' (C:\\Users\\rouxa\\AppData\\Local\\Packages\\PythonSoftwareFoundation.Python.3.9_qbz5n2kfra8p0\\LocalCache\\local-packages\\Python39\\site-packages\\elastic_transport\\__init__.py)"
     ]
    }
   ],
   "source": [
    "# from elastic_enterprise_search import EnterpriseSearch\n",
    "\n",
    "# client = EnterpriseSearch(\"https://filrougeml22.ent.eu-west-1.aws.found.io\")\n",
    "\n",
    "from elastic_enterprise_search import AppSearch\n",
    "\n",
    "# Create an AppSearch client authenticated with a search key.\n",
    "server_side = AppSearch(\n",
    "    \"https://filrougeml22.ent.eu-west-1.aws.found.io\",\n",
    "    http_auth=\"search-mg7sxuz513bctfqjsorxp942\"\n",
    ")\n",
    "\n",
    "# # Creating a Signed Search Key on the server side...\n",
    "# signed_search_key = server_side.create_signed_search_key(\n",
    "#     api_key=server_side.http_auth,\n",
    "#     api_key_name=\"search-key\",\n",
    "#     search_fields={\n",
    "#         \"body\": {}\n",
    "#     }\n",
    "# )\n",
    "\n",
    "# # ...then a different client can then\n",
    "# # use the Signed Search key for searches:\n",
    "# client_side = AppSearch(\n",
    "#     \"https://filrougeml22.ent.eu-west-1.aws.found.io\",\n",
    "#     http_auth=signed_search_key\n",
    "# )\n",
    "# resp = client_side.search(\n",
    "#     engine_name=\"example-engine\",\n",
    "#     body={\n",
    "#         ...\n",
    "#     }\n",
    "# )"
   ]
  }
 ],
 "metadata": {
  "interpreter": {
   "hash": "3f30bf38e97a772a10dc127b65159155caa1aac855941b5b56bd5ba6b0a7e5ab"
  },
  "kernelspec": {
   "display_name": "Python 3.9.7 64-bit",
   "language": "python",
   "name": "python3"
  },
  "language_info": {
   "codemirror_mode": {
    "name": "ipython",
    "version": 3
   },
   "file_extension": ".py",
   "mimetype": "text/x-python",
   "name": "python",
   "nbconvert_exporter": "python",
   "pygments_lexer": "ipython3",
   "version": "3.9.10"
  },
  "orig_nbformat": 4
 },
 "nbformat": 4,
 "nbformat_minor": 2
}
